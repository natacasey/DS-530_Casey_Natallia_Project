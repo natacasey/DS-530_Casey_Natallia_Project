{
 "cells": [
  {
   "cell_type": "code",
   "execution_count": 1,
   "metadata": {},
   "outputs": [
    {
     "name": "stdout",
     "output_type": "stream",
     "text": [
      "<class 'pandas.core.frame.DataFrame'>\n",
      "RangeIndex: 6820 entries, 0 to 6819\n",
      "Data columns (total 15 columns):\n",
      "budget      6820 non-null float64\n",
      "company     6820 non-null object\n",
      "country     6820 non-null object\n",
      "director    6820 non-null object\n",
      "genre       6820 non-null object\n",
      "gross       6820 non-null float64\n",
      "name        6820 non-null object\n",
      "rating      6820 non-null object\n",
      "released    6820 non-null object\n",
      "runtime     6820 non-null int64\n",
      "score       6820 non-null float64\n",
      "star        6820 non-null object\n",
      "votes       6820 non-null int64\n",
      "writer      6820 non-null object\n",
      "year        6820 non-null int64\n",
      "dtypes: float64(3), int64(3), object(9)\n",
      "memory usage: 799.3+ KB\n",
      "No missing observations discovered\n",
      "budget min = 0.0 & budget max = 300000000.0 & budget\n",
      "gross min = 70.0 & gross max = 936662225.0 & gross\n",
      "runtime min = 50 & runtime max = 366 & runtime\n",
      "score min = 1.5 & score max = 9.3 & score\n",
      "votes min = 27 & votes max = 1861666 & votes\n"
     ]
    }
   ],
   "source": [
    "import numpy as np\n",
    "import pandas as pd\n",
    "import matplotlib.pyplot as plt\n",
    "%matplotlib inline\n",
    "import thinkstats2\n",
    "import thinkplot\n",
    "import statistics\n",
    "from statistics import mode \n",
    "\n",
    "df = pd.read_csv('C:/Users/natac/Desktop/ThinkStats2-master/code/movies.csv', encoding='latin1')\n",
    "df.drop(df.columns[df.columns.str.contains('unnamed',case = False)],axis = 1, inplace = True)\n",
    "df.columns\n",
    "#checking to see if we have any missing observations\n",
    "df.info()\n",
    "print('No missing observations discovered')\n",
    "#checking to see what the max and min values are to check for something suspecious\n",
    "for index in ['budget', 'gross', 'runtime', 'score', 'votes']:\n",
    "    print(index, 'min =', df[index].min(), '&', index, 'max =', df[index].max(), '&', index,  )"
   ]
  },
  {
   "cell_type": "code",
   "execution_count": 2,
   "metadata": {},
   "outputs": [
    {
     "name": "stdout",
     "output_type": "stream",
     "text": [
      "I would like to make a list of top-grossing movies.\n",
      "10 highest-grossing movies are:\n",
      "---------------------------------------------------\n",
      "6380                 Star Wars: The Force Awakens\n",
      "5061                                       Avatar\n",
      "2420                                      Titanic\n",
      "6391                               Jurassic World\n",
      "5723                                 The Avengers\n",
      "4840                              The Dark Knight\n",
      "6614                                    Rogue One\n",
      "6687                                 Finding Dory\n",
      "2870    Star Wars: Episode I - The Phantom Menace\n",
      "6398                      Avengers: Age of Ultron\n",
      "Name: name, dtype: object\n"
     ]
    }
   ],
   "source": [
    "#Before I start analyzing the data any further and possibly removing some values, I will make a list of top-grossing movies\n",
    "print('I would like to make a list of top-grossing movies.')\n",
    "print('10 highest-grossing movies are:')\n",
    "print('---------------------------------------------------')\n",
    "using_df= df.nlargest(10, 'gross')\n",
    "print(using_df['name' ])"
   ]
  },
  {
   "cell_type": "code",
   "execution_count": 3,
   "metadata": {},
   "outputs": [
    {
     "name": "stdout",
     "output_type": "stream",
     "text": [
      "I would like to make a list of top-rated movies.\n",
      "10 highest-rated movies are:\n",
      "--------------------------------------------------\n",
      "1760                             The Shawshank Redemption\n",
      "4840                                      The Dark Knight\n",
      "1542                                     Schindler's List\n",
      "1761                                         Pulp Fiction\n",
      "3743        The Lord of the Rings: The Return of the King\n",
      "1762                                         Forrest Gump\n",
      "2860                                           Fight Club\n",
      "3301    The Lord of the Rings: The Fellowship of the Ring\n",
      "5280                                            Inception\n",
      "881                                            Goodfellas\n",
      "Name: name, dtype: object\n"
     ]
    }
   ],
   "source": [
    "print('I would like to make a list of top-rated movies.')\n",
    "print('10 highest-rated movies are:')\n",
    "print('--------------------------------------------------')\n",
    "using_df= df.nlargest(10, 'score')\n",
    "print(using_df['name' ])"
   ]
  },
  {
   "cell_type": "code",
   "execution_count": 4,
   "metadata": {
    "scrolled": false
   },
   "outputs": [
    {
     "name": "stdout",
     "output_type": "stream",
     "text": [
      "Analysis of the variable \"budget\"\n",
      "Number of observations for budget that equals to 0:  2182\n",
      "There are a lot of values with 0.0. Almost a 3rd of the data set. This might significantly effect the results and the whole project\n",
      "Decision is made to use listwise removal to have a data frame without the values 0.0 that are incorrect.\n",
      "Number of observations after removing the rows with the budget value of 0.0:  4638\n",
      "The lowest budget is  6000.0\n",
      "Retrieving the name of the movie with the lowest \"budget\" value:   Following\n",
      "After doing some research I can confirm that this movie indeed had such a low budget. This is a valid value\n",
      "The movie with the biggest budget has the budget of  300000000.0\n",
      "Retrieving the name of the movie with the highest budget:  Pirates of the Caribbean: At World's End\n",
      "After doing some research I can confirm that this movie indeed had such a high budget. This is a valid value\n",
      "Mean of the variable \"budget with removed values that equal to 0\" is  36145601.601768\n",
      "Mode of the variable \"budget with removed values that equal to 0\"is  20000000.0\n",
      "The variance of the variable \"budget\" is  1597558792556887.0\n",
      "A histogram for the value \"budget\"\n",
      "The right tail of the histogram is significantly longer than the left one which means the distribution is positively skewed. \n",
      "Most of the scores are within the range of 60000 to 10000000\n"
     ]
    },
    {
     "data": {
      "image/png": "[encoded data removed]",
      "text/plain": [
       "<Figure size 432x288 with 1 Axes>"
      ]
     },
     "metadata": {
      "needs_background": "light"
     },
     "output_type": "display_data"
    }
   ],
   "source": [
    "#Since variable budget has a minimum value that equals to zero we will start with it. \n",
    "# When looking at possible outliers, I will focus a lot on identifying if lowest and highest values of the variables are valid\n",
    "#by comparing the information about them from other sources\n",
    "print('Analysis of the variable \"budget\"')\n",
    "budget = df['budget']\n",
    "budgetwith0 = budget[df.budget ==0]\n",
    "print(\"Number of observations for budget that equals to 0: \", len(budgetwith0))\n",
    "print('There are a lot of values with 0.0. Almost a 3rd of the data set. This might significantly effect the results and the whole project')\n",
    "print('Decision is made to use listwise removal to have a data frame without the values 0.0 that are incorrect.')\n",
    "df = df[df.budget != 0.0]\n",
    "print('Number of observations after removing the rows with the budget value of 0.0: ', len(df))\n",
    "budget = df['budget']\n",
    "min_budget = budget.min()\n",
    "print('The lowest budget is ',min_budget)\n",
    "low_budget = df[df.budget== 6000]\n",
    "low_budget_name = low_budget['name']\n",
    "print('Retrieving the name of the movie with the lowest \"budget\" value: ', low_budget_name.to_string(index=False))\n",
    "print('After doing some research I can confirm that this movie indeed had such a low budget. This is a valid value')\n",
    "max_budget = budget.max()\n",
    "print(\"The movie with the biggest budget has the budget of \", max_budget)\n",
    "high_budget = df[df.budget == 300000000.0]\n",
    "high_budget_name = high_budget['name']\n",
    "print(\"Retrieving the name of the movie with the highest budget:\", high_budget_name.to_string(index=False))\n",
    "print('After doing some research I can confirm that this movie indeed had such a high budget. This is a valid value')\n",
    "mean_budget=budget.mean()\n",
    "print('Mean of the variable \"budget with removed values that equal to 0\" is ', budget.mean())\n",
    "print('Mode of the variable \"budget with removed values that equal to 0\"is ', mode(budget))\n",
    "print('The variance of the variable \"budget\" is ', budget.var())\n",
    "print('A histogram for the value \"budget\"')\n",
    "n, bins, patches = plt.hist(x=budget, bins=int(1000/40), facecolor='blue', \n",
    "                            alpha=0.7)\n",
    "plt.xlabel('Budget')\n",
    "plt.ylabel('Frequency')\n",
    "plt.title('Budget Representation')\n",
    "plt.ticklabel_format(useOffset=False, style='plain')\n",
    "plt.xticks(rotation = 90, fontsize=9)\n",
    "\n",
    "print('The right tail of the histogram is significantly longer than the left one which means the distribution is positively skewed. ')\n",
    "#I need to check this before submitting\n",
    "print(\"Most of the scores are within the range of 60000 to 10000000\")"
   ]
  },
  {
   "cell_type": "code",
   "execution_count": 5,
   "metadata": {},
   "outputs": [
    {
     "name": "stdout",
     "output_type": "stream",
     "text": [
      "Mean of the variable \"gross\" is  46074694.33915481\n",
      "Mode of the variable \"gross\" is  20100000.0\n",
      "The variance of the variable \"gross\" is  4394865815411431.5\n",
      "The biggest value of \"gross\" is  936662225.0\n",
      "Retrieving the name of the movie with the highest revenue:  Star Wars: The Force Awakens\n",
      "The revenue is accurate for   Star Wars: The Force Awakens . The information on it that confirms that the value is correct was found on Wikipedia\n",
      "The lowest revenue is  309.0\n",
      "Retrieving the name of the movie with the lowest revenue:   Trojan War\n",
      "5 variables with lowest value for revenue\n",
      "309.0\n",
      "1098.0\n",
      "1434.0\n",
      "1744.0\n",
      "1785.0\n",
      "Retrieving the name of the movie with the 2nd lowest revenue:   Flypaper\n",
      "Retrieving the name of the movie with the 3rd lowest revenue:   Terror Firmer\n",
      "Retrieving the name of the movie with the 4th lowest revenue:   The Samaritan\n",
      "Retrieving the name of the movie with the 5th lowest revenue:   The Canyon\n",
      "All of these values for the \"gross\" of the movies represent the actual revenue. I checked on other websites like Wikipedia, the-numbers.com, rottentomatoes.com\n",
      "The right tail of the histogram is significantly longer than the left one which means the distribution is positively skewed. \n"
     ]
    },
    {
     "data": {
      "image/png": "[encoded data removed]",
      "text/plain": [
       "<Figure size 432x288 with 1 Axes>"
      ]
     },
     "metadata": {
      "needs_background": "light"
     },
     "output_type": "display_data"
    }
   ],
   "source": [
    "#Analyzing the variable \"gross\"\n",
    "gross= df['gross']\n",
    "print('Mean of the variable \"gross\" is ', gross.mean())\n",
    "print('Mode of the variable \"gross\" is ', mode(gross))\n",
    "print('The variance of the variable \"gross\" is ', gross.var())\n",
    "#Checking if the highest value for gross is a potential outlier.\n",
    "name = df['name']\n",
    "max_gross = gross.max()\n",
    "print('The biggest value of \"gross\" is ', max_gross)\n",
    "high_gross = df[df.gross == 936662225]\n",
    "high_gross_name = high_gross['name']\n",
    "print(\"Retrieving the name of the movie with the highest revenue:\", high_gross_name.to_string(index=False))\n",
    "print(\"The revenue is accurate for \", high_gross_name.to_string(index=False), '. The information on it that confirms that the value is correct was found on Wikipedia')\n",
    "min_gross = gross.min()\n",
    "print('The lowest revenue is ',min_gross)\n",
    "low_gross = df[df.gross == 309.0]\n",
    "low_gross_name = low_gross['name']\n",
    "print(\"Retrieving the name of the movie with the lowest revenue: \", low_gross_name.to_string(index=False))\n",
    "#Analyzing some more lowest values for revenue to make sure they are valid\n",
    "print(\"5 variables with lowest value for revenue\")\n",
    "gross_hist = thinkstats2.Hist(gross)\n",
    "for grosses, freq in gross_hist.Smallest(5):\n",
    "    print(grosses)\n",
    "#retrieving information for these movies to be able to do the research on their gross. \n",
    "low_gross = df[df.gross == 1098]\n",
    "low_gross_name = low_gross['name']\n",
    "print(\"Retrieving the name of the movie with the 2nd lowest revenue: \", low_gross_name.to_string(index=False))\n",
    "low_gross = df[df.gross == 1434]\n",
    "low_gross_name = low_gross['name']\n",
    "print(\"Retrieving the name of the movie with the 3rd lowest revenue: \", low_gross_name.to_string(index=False))\n",
    "low_gross = df[df.gross == 1744]\n",
    "low_gross_name = low_gross['name']\n",
    "print(\"Retrieving the name of the movie with the 4th lowest revenue: \", low_gross_name.to_string(index=False))\n",
    "low_gross = df[df.gross == 1785]\n",
    "low_gross_name = low_gross['name']\n",
    "print(\"Retrieving the name of the movie with the 5th lowest revenue: \", low_gross_name.to_string(index=False))\n",
    "print('All of these values for the \"gross\" of the movies represent the actual revenue. I checked on other websites like Wikipedia, the-numbers.com, rottentomatoes.com')\n",
    "#Creating a histogram   \n",
    "\n",
    "n, bins, patches = plt.hist(x=gross, bins = int(1000/40), facecolor='blue', \n",
    "                            alpha=0.7)\n",
    "plt.xlabel('Gross')\n",
    "plt.ylabel('Frequency')\n",
    "plt.title('Gross Representation')\n",
    "plt.ticklabel_format(useOffset=False, style='plain')\n",
    "plt.xticks(rotation = 90, fontsize=9)\n",
    "print(\"The right tail of the histogram is significantly longer than the left one which means the distribution is positively skewed. \")\n",
    "      \n",
    "\n"
   ]
  },
  {
   "cell_type": "code",
   "execution_count": 6,
   "metadata": {},
   "outputs": [
    {
     "name": "stdout",
     "output_type": "stream",
     "text": [
      "Mean of the variable \"score\" is  6.356317378180231\n",
      "Mode of the variable \"score\" is  6.7\n",
      "The variance of the variable \"score\" is  1.0222492777268282\n",
      "The lowest rated movie has a score of  1.5\n",
      "Retrieving the name of the movie with the lowest score:   Saving Christmas\n",
      "After doing some research on whether it is an outlier, I found similar really low rating scores for this movie on other websites.  There is no mistake here. This is a valid value.\n",
      "The highest rated movie has a score of  9.3\n",
      "Retrieving the name of the movie with the highest score:  The Shawshank Redemption\n",
      "After doing some research on whether it is an outlier, I found similar really high rating scores for this movie on other websites.  There is no mistake here. This is a valid value.\n"
     ]
    },
    {
     "data": {
      "image/png": "[encoded data removed]",
      "text/plain": [
       "<Figure size 432x288 with 1 Axes>"
      ]
     },
     "metadata": {
      "needs_background": "light"
     },
     "output_type": "display_data"
    },
    {
     "name": "stdout",
     "output_type": "stream",
     "text": [
      "Very roughly bell-shaped distribution with the tail extending further to the left than right, which means the distribution is negatively skewed. \n",
      "Most of the scores are within the range of 5.5 to 7.5\n"
     ]
    },
    {
     "data": {
      "text/plain": [
       "<Figure size 576x432 with 0 Axes>"
      ]
     },
     "metadata": {},
     "output_type": "display_data"
    }
   ],
   "source": [
    "#Exploring the variable score.\n",
    "score = df['score']\n",
    "mean_score = score.mean()\n",
    "print('Mean of the variable \"score\" is ', mean_score)\n",
    "print('Mode of the variable \"score\" is ', mode(score)) \n",
    "print('The variance of the variable \"score\" is ', score.var())\n",
    "#Checking if the lowest score is a potential outlier.\n",
    "min_score = score.min()\n",
    "print('The lowest rated movie has a score of ',min_score)\n",
    "name = df['name']\n",
    "low_score = df[df.score == 1.5]\n",
    "low_score_name = low_score['name']\n",
    "print(\"Retrieving the name of the movie with the lowest score: \", low_score_name.to_string(index=False))\n",
    "print('After doing some research on whether it is an outlier, I found similar really low rating scores for this movie on other websites.',' There is no mistake here. This is a valid value.')\n",
    "#Checking if the highest rating score is a potential outlier.\n",
    "max_score = score.max()\n",
    "print('The highest rated movie has a score of ', max_score)\n",
    "high_score = df[df.score == 9.3]\n",
    "high_score_name = high_score['name']\n",
    "print(\"Retrieving the name of the movie with the highest score:\", high_score_name.to_string(index=False))\n",
    "print('After doing some research on whether it is an outlier, I found similar really high rating scores for this movie on other websites.',' There is no mistake here. This is a valid value.')\n",
    "\n",
    "#creating a histogram\n",
    "width = 0.08\n",
    "hist = thinkstats2.Hist(score, label = 'Scores Representation')\n",
    "thinkplot.Hist(hist, width = width)\n",
    "plt.title('Histogram of rating scores')\n",
    "thinkplot.Show(xlabel = 'score', ylabel = 'count')\n",
    "print('Very roughly bell-shaped distribution with the tail extending further to the left than right, which means the distribution is negatively skewed. ')\n",
    "print(\"Most of the scores are within the range of 5.5 to 7.5\")\n"
   ]
  },
  {
   "cell_type": "code",
   "execution_count": 7,
   "metadata": {},
   "outputs": [
    {
     "name": "stdout",
     "output_type": "stream",
     "text": [
      "Mean of the variable \"runtime\" is  107.59551530832255\n",
      "Mode of the variable \"runtime\" is  100\n",
      "The variance of the variable \"runtime\" is  324.8210452271704\n",
      "The lowest value for \"runtime\" is  69\n",
      "Retrieving the name of the movie with the lowest \"runtime\" value:   The Land Before Time\n",
      "            Following\n",
      "After doing some research by comparing this information to the one on other movie related websites I can confirm that this movie indeed had this runtime. This is a valid value\n",
      "The highest value for \"runtime\" is  280\n",
      "Retrieving the name of the movie with the highest \"runtime\" value:   Until the End of the World\n",
      "After doing some research by comparing this information to the one on other movie related websites I can confirm that this movie indeed had such a high runtime. This is a valid value\n",
      "Histogram for the value \"runtime\"\n",
      "The right tail of the histogram is significantly longer than the left one which means the distribution is positively skewed. We can see the mode of a 100 very well on this histogram.\n"
     ]
    },
    {
     "data": {
      "image/png": "[encoded data removed]",
      "text/plain": [
       "<Figure size 432x288 with 1 Axes>"
      ]
     },
     "metadata": {
      "needs_background": "light"
     },
     "output_type": "display_data"
    }
   ],
   "source": [
    "#Analyzing variable \"runtime\"\n",
    "runtime = df['runtime']\n",
    "print('Mean of the variable \"runtime\" is ', runtime.mean())\n",
    "print('Mode of the variable \"runtime\" is ', mode(runtime)) \n",
    "print('The variance of the variable \"runtime\" is ', runtime.var())\n",
    "#Checking if the lowest runtime value is a valid outlier.\n",
    "min_runtime = runtime.min()\n",
    "print('The lowest value for \"runtime\" is ',min_runtime)\n",
    "low_runtime = df[df.runtime == 69]\n",
    "low_runtime_name = low_runtime['name']\n",
    "print('Retrieving the name of the movie with the lowest \"runtime\" value: ', low_runtime_name.to_string(index=False))\n",
    "print('After doing some research by comparing this information to the one on other movie related websites I can confirm that this movie indeed had this runtime. This is a valid value')\n",
    "#Checking if the highest runtime valuee is a valid value.\n",
    "max_runtime = runtime.max()\n",
    "print('The highest value for \"runtime\" is ', max_runtime)\n",
    "high_runtime = df[df.runtime == 280]\n",
    "high_runtime_name = high_runtime['name']\n",
    "print('Retrieving the name of the movie with the highest \"runtime\" value: ', high_runtime_name.to_string(index=False))\n",
    "print('After doing some research by comparing this information to the one on other movie related websites I can confirm that this movie indeed had such a high runtime. This is a valid value')\n",
    "n, bins, patches = plt.hist(x=runtime, bins=int(1000/40), facecolor='blue', \n",
    "                            alpha=0.7)\n",
    "print('Histogram for the value \"runtime\"')\n",
    "#plt.grid(axis='y', alpha=0.75)\n",
    "plt.xlabel('Runtime')\n",
    "plt.ylabel('Frequency')\n",
    "plt.title('Runtime Representation')\n",
    "#plt.ticklabel_format(useOffset=False, style='plain')\n",
    "plt.xticks(rotation = 90, fontsize=9)\n",
    "print('The right tail of the histogram is significantly longer than the left one which means the distribution is positively skewed. We can see the mode of a 100 very well on this histogram.')"
   ]
  },
  {
   "cell_type": "code",
   "execution_count": 8,
   "metadata": {},
   "outputs": [
    {
     "name": "stdout",
     "output_type": "stream",
     "text": [
      "Mean of the variable \"votes\" is  95702.53967227253\n",
      "The mode of the variable \"votes\" is  5757\n",
      "The variance of the variable \"votes\" is  22316723421.30611\n",
      "The lowest number of votes is  183\n",
      "Retrieving the name of the movie with the lowest number of votes:   Sky Bandits\n",
      "After doing some research on whether it is an outlier, I compared the number of votes on RottenTomatoes. There is no mistake here. This is a valid value.\n",
      "The biggest number of votes is  1861666\n",
      "Retrieving the name of the movie with the highest number of votes:  The Shawshank Redemption\n",
      "After doing some research on whether it is an outlier, I found similar really high number of votes on RottenTomatoes for this movie. This is a valid value.\n",
      "The right tail of the histogram is significantly longer than the left one which means the distribution is positively skewed.\n"
     ]
    },
    {
     "data": {
      "image/png": "[encoded data removed]",
      "text/plain": [
       "<Figure size 432x288 with 1 Axes>"
      ]
     },
     "metadata": {
      "needs_background": "light"
     },
     "output_type": "display_data"
    }
   ],
   "source": [
    "votes = df['votes']\n",
    "print('Mean of the variable \"votes\" is ', votes.mean())\n",
    "print('The mode of the variable \"votes\" is ', mode(votes))\n",
    "print('The variance of the variable \"votes\" is ', votes.var())\n",
    "    \n",
    "#Checking if the lowest number of votes is a potential outlier.\n",
    "min_votes = votes.min()\n",
    "print('The lowest number of votes is ',min_votes)\n",
    "name = df['name']\n",
    "low_votes = df[df.votes == 183]\n",
    "low_votes_name = low_votes['name']\n",
    "print(\"Retrieving the name of the movie with the lowest number of votes: \", low_votes_name.to_string(index=False))\n",
    "print('After doing some research on whether it is an outlier, I compared the number of votes on RottenTomatoes. There is no mistake here. This is a valid value.')\n",
    "#Checking if the highest number of votes is a potential outlier.\n",
    "max_votes = votes.max()\n",
    "print('The biggest number of votes is ', max_votes)\n",
    "high_votes = df[df.votes == 1861666]\n",
    "high_votes_name = high_votes['name']\n",
    "print(\"Retrieving the name of the movie with the highest number of votes:\", high_votes_name.to_string(index=False))\n",
    "print('After doing some research on whether it is an outlier, I found similar really high number of votes on RottenTomatoes for this movie. This is a valid value.')\n",
    "\n",
    "  \n",
    "#Creating a histogram    \n",
    "n, bins, patches = plt.hist(x=votes, bins = int(1000/40), facecolor='blue', \n",
    "                            alpha=0.7)\n",
    "    \n",
    "plt.xlabel('Votes')\n",
    "plt.ylabel('Frequency')\n",
    "plt.title('Votes Representation')\n",
    "plt.ticklabel_format(useOffset=False, style='plain')\n",
    "plt.xticks(rotation = 90, fontsize=9)\n",
    "\n",
    "print('The right tail of the histogram is significantly longer than the left one which means the distribution is positively skewed.')\n",
    "    "
   ]
  },
  {
   "cell_type": "code",
   "execution_count": 9,
   "metadata": {},
   "outputs": [
    {
     "name": "stdout",
     "output_type": "stream",
     "text": [
      "The mean for the variable score is  6.356317378180231\n",
      "The mean for the ratings of horror movies is  5.719298245614037\n",
      "The mean for the rating of all genres but the horror movies is  6.389251700680251\n",
      "The difference in the means is  0.67 . As a fraction of the typical score, the difference represents about 10.5%.\n",
      "By looking at the histogram I can tell that horror movies are more likely to get lower rating scores than movies of other genre\n"
     ]
    },
    {
     "data": {
      "image/png": "[encoded data removed]",
      "text/plain": [
       "<Figure size 864x432 with 1 Axes>"
      ]
     },
     "metadata": {
      "needs_background": "light"
     },
     "output_type": "display_data"
    }
   ],
   "source": [
    "#Creating two pmfs to compare the probabilty of horror movies being rated lower than other genres of movies.\n",
    "import warnings\n",
    "warnings.filterwarnings('ignore')\n",
    "mean_score=score.mean()\n",
    "print(\"The mean for the variable score is \",mean_score)\n",
    "score = df['score']\n",
    "score_horror= score[df.genre=='Horror']\n",
    "mean_score_horror = score_horror.mean()\n",
    "print(\"The mean for the ratings of horror movies is \", mean_score_horror )\n",
    "score_others = score[df.genre!='Horror']\n",
    "mean_score_others = score_others.mean()\n",
    "print(\"The mean for the rating of all genres but the horror movies is \", mean_score_others )\n",
    "print('The difference in the means is ',round(mean_score_others - mean_score_horror, 2), '. As a fraction of the typical score, the difference represents about 10.5%.')\n",
    "horror_pmf = thinkstats2.Pmf(score_horror, label = 'horror_pmf')\n",
    "others_pmf = thinkstats2.Pmf(score_others, label = 'others_pmf')\n",
    "thinkplot.PrePlot(2, cols =2)\n",
    "thinkplot.Hist(horror_pmf, align='right', color = 'red', width = 0.05)\n",
    "thinkplot.Hist(others_pmf, align = 'left' , alpha = 0.5, color = 'green', width = 0.05)\n",
    "plt.legend(loc=\"upper left\")\n",
    "plt.ticklabel_format(useOffset=False, style='plain')\n",
    "plt.title('Pmfs: horror vs other genres')\n",
    "thinkplot.Config(xlabel = 'score', ylabel = 'probability')\n",
    "print('By looking at the histogram I can tell that horror movies are more likely to get lower rating scores than movies of other genre')"
   ]
  },
  {
   "cell_type": "code",
   "execution_count": 10,
   "metadata": {},
   "outputs": [
    {
     "data": {
      "image/png": "[encoded data removed]",
      "text/plain": [
       "<Figure size 432x288 with 1 Axes>"
      ]
     },
     "metadata": {
      "needs_background": "light"
     },
     "output_type": "display_data"
    },
    {
     "data": {
      "text/plain": [
       "<Figure size 576x432 with 0 Axes>"
      ]
     },
     "metadata": {},
     "output_type": "display_data"
    }
   ],
   "source": [
    "#Creating CDF of the variable \"score\"\n",
    "cdf = thinkstats2.Cdf(score, label = 'score')\n",
    "thinkplot.Cdf(cdf)\n",
    "plt.ticklabel_format(useOffset=False, style='plain')\n",
    "plt.xticks(rotation = 90, fontsize=9)\n",
    "plt.title('Cdf of \"scores\"')\n",
    "thinkplot.Show(xlabel = 'scores ', ylabel = 'CDF', )\n"
   ]
  },
  {
   "cell_type": "code",
   "execution_count": 11,
   "metadata": {},
   "outputs": [],
   "source": [
    "#Looking at the CDF graph I can tell that the median value for the score is around 6.3. \n",
    "#The minimum value is around 1.4, the maximum around 9.3. \n",
    "#Also, it looks like about 10% of scores are below the score of 5.2 and 90% of scores are below the rating of 7.5."
   ]
  },
  {
   "cell_type": "code",
   "execution_count": 12,
   "metadata": {},
   "outputs": [
    {
     "data": {
      "image/png": "[encoded data removed]",
      "text/plain": [
       "<Figure size 432x288 with 1 Axes>"
      ]
     },
     "metadata": {
      "needs_background": "light"
     },
     "output_type": "display_data"
    },
    {
     "name": "stdout",
     "output_type": "stream",
     "text": [
      "We can see that horror movies tend to be rated lower than other genres of movies\n"
     ]
    },
    {
     "data": {
      "text/plain": [
       "<Figure size 576x432 with 0 Axes>"
      ]
     },
     "metadata": {},
     "output_type": "display_data"
    }
   ],
   "source": [
    "#Comparing CDFs of horror movie scores and those of other genres\n",
    "horror_cdf = thinkstats2.Cdf(score_horror, label = 'horror')\n",
    "other_cdf = thinkstats2.Cdf(score_others, label = 'others')\n",
    "thinkplot.PrePlot(2)\n",
    "thinkplot.Cdfs([horror_cdf, other_cdf])\n",
    "plt.ticklabel_format(useOffset=False, style='plain')\n",
    "plt.title('Cdf of horror movie \"scores\" and other genres')\n",
    "plt.legend(loc=\"upper left\")\n",
    "thinkplot.Show(xlabel = 'scores', ylabel = 'CDF')\n",
    "print('We can see that horror movies tend to be rated lower than other genres of movies')"
   ]
  },
  {
   "cell_type": "code",
   "execution_count": 13,
   "metadata": {},
   "outputs": [],
   "source": [
    "#The graph reflects that horror movies tend to be rated lower than other genres of movies. \n",
    "#90% of the scores of horror movies are below the score of 6.5 and 90% of scores of other genres are below  7.5"
   ]
  },
  {
   "cell_type": "code",
   "execution_count": 14,
   "metadata": {},
   "outputs": [
    {
     "name": "stdout",
     "output_type": "stream",
     "text": [
      "Mean, Var 6.3706115266168055 0.8564174438970545\n",
      "Sigma 0.9254282489188747\n",
      "The model seems to fit the data well except in the left tail\n",
      "The normal probability plot should be created to check further.\n"
     ]
    },
    {
     "data": {
      "image/png": "[encoded data removed]",
      "text/plain": [
       "<Figure size 432x288 with 1 Axes>"
      ]
     },
     "metadata": {
      "needs_background": "light"
     },
     "output_type": "display_data"
    }
   ],
   "source": [
    "#comparing the cdf of a normal distribution to the CDF of the variable \"score\"\n",
    "mu, var = thinkstats2.TrimmedMeanVar(score, p=0.01)\n",
    "print('Mean, Var', mu, var)\n",
    "    \n",
    "# plotting the model\n",
    "sigma = np.sqrt(var)\n",
    "print('Sigma', sigma)\n",
    "xs, ps = thinkstats2.RenderNormalCdf(mu, sigma, low=0, high=12.5)\n",
    "\n",
    "thinkplot.Plot(xs, ps, label='model', color='red')\n",
    "\n",
    "# plotting the data\n",
    "cdf = thinkstats2.Cdf(score, label='data')\n",
    "\n",
    "thinkplot.PrePlot(1)\n",
    "thinkplot.Cdf(cdf) \n",
    "thinkplot.Config(title='Scores',\n",
    "                 xlabel='Scores',\n",
    "                 ylabel='CDF')\n",
    "print(\"The model seems to fit the data well except in the left tail\")\n",
    "print(\"The normal probability plot should be created to check further.\")"
   ]
  },
  {
   "cell_type": "code",
   "execution_count": 15,
   "metadata": {},
   "outputs": [
    {
     "name": "stdout",
     "output_type": "stream",
     "text": [
      "We observe that there are deviations from the model in the tails. The normal destribution that we learned about in Chapter 5 does not describe the destribution of the variable score well in the tails.\n",
      "Both the highest and the lowest scores are lower compared to what the normal distribution model expects them to be.\n"
     ]
    },
    {
     "data": {
      "image/png": "[encoded data removed]",
      "text/plain": [
       "<Figure size 432x288 with 1 Axes>"
      ]
     },
     "metadata": {
      "needs_background": "light"
     },
     "output_type": "display_data"
    }
   ],
   "source": [
    "#Creating a normal probability plot for the scores. \n",
    "def MakeNormalPlot(score):\n",
    "    mean = score.mean()\n",
    "    std = score.std()\n",
    "\n",
    "\n",
    "    xs=[-4,4]\n",
    "    fxs, fys =thinkstats2.FitLine(xs, inter = mean, slope = std)\n",
    "    thinkplot.Plot(fxs, fys, label='model')\n",
    "    \n",
    "    xs, ys = thinkstats2.NormalProbability(score)\n",
    "    thinkplot.Plot(xs, ys, label='scores')\n",
    "    plt.legend(loc=\"upper left\")\n",
    "    thinkplot.Config(title='Normal probability plot',\n",
    "                 xlabel='Standard deviations from mean',\n",
    "                 ylabel='Scores')\n",
    "MakeNormalPlot(score)\n",
    "print('We observe that there are deviations from the model in the tails. The normal destribution that we learned about in Chapter 5 does not describe the destribution of the variable score well in the tails.')\n",
    "print('Both the highest and the lowest scores are lower compared to what the normal distribution model expects them to be.')"
   ]
  },
  {
   "cell_type": "code",
   "execution_count": 16,
   "metadata": {},
   "outputs": [
    {
     "name": "stdout",
     "output_type": "stream",
     "text": [
      "Lognormal distribution doesn't look like a good match for the data.\n"
     ]
    },
    {
     "data": {
      "image/png": "[encoded data removed]",
      "text/plain": [
       "<Figure size 432x288 with 1 Axes>"
      ]
     },
     "metadata": {
      "needs_background": "light"
     },
     "output_type": "display_data"
    }
   ],
   "source": [
    "#Checking if lognormal distribution would work better\n",
    "log_score = np.log10(score)\n",
    "MakeNormalPlot(log_score)\n",
    "thinkplot.Config(title='Scores, log scale', xlabel='Scores',\n",
    "                 ylabel='CDF', loc='upper right')\n",
    "plt.legend(loc=\"upper left\")\n",
    "print(\"Lognormal distribution doesn't look like a good match for the data.\")"
   ]
  },
  {
   "cell_type": "code",
   "execution_count": 17,
   "metadata": {},
   "outputs": [
    {
     "name": "stdout",
     "output_type": "stream",
     "text": [
      "Pareto distribution. The model does not fit the data well in the tails.\n"
     ]
    },
    {
     "data": {
      "image/png": "[encoded data removed]",
      "text/plain": [
       "<Figure size 432x288 with 1 Axes>"
      ]
     },
     "metadata": {
      "needs_background": "light"
     },
     "output_type": "display_data"
    }
   ],
   "source": [
    "#plotting Pareto distribution\n",
    "cdf = thinkstats2.Cdf(score, label='data')\n",
    "cdf_log = thinkstats2.Cdf(log_score, label='data')\n",
    "\n",
    "# pareto plot\n",
    "xs, ys = thinkstats2.RenderParetoCdf(xmin=5000,alpha=1.4, low=0, high=1e7)\n",
    "thinkplot.Plot(np.log10(xs), 1-ys, label='model', color='red')\n",
    "\n",
    "thinkplot.Cdf(cdf_log, complement=True) \n",
    "plt.title('Pareto distribution')\n",
    "thinkplot.Config(xlabel='log10 scores',\n",
    "                 ylabel='CCDF',\n",
    "                 yscale='log', loc='lower left')\n",
    "plt.legend(loc=\"upper right\")\n",
    "print('Pareto distribution. The model does not fit the data well in the tails.')"
   ]
  },
  {
   "cell_type": "code",
   "execution_count": 18,
   "metadata": {},
   "outputs": [
    {
     "data": {
      "image/png": "[encoded data removed]",
      "text/plain": [
       "<Figure size 432x288 with 1 Axes>"
      ]
     },
     "metadata": {
      "needs_background": "light"
     },
     "output_type": "display_data"
    }
   ],
   "source": [
    "#Creating a scatterplot for the variables score and gross\n",
    "from thinkstats2 import Mean, MeanVar, Var, Std, Cov\n",
    "def LeastSquares(xs, ys):\n",
    "    meanx, varx = MeanVar(xs)\n",
    "    meany = Mean(ys)\n",
    "\n",
    "    slope = Cov(xs, ys, meanx, meany) / varx\n",
    "    inter = meany - slope * meanx\n",
    "\n",
    "    return inter, slope\n",
    "LeastSquares(gross, score)\n",
    "thinkplot.Scatter(gross, score, alpha=0.07)\n",
    "#using the function from the book on page 119 to fit Least Squares\n",
    "inter, slope = thinkstats2.LeastSquares(gross, score)\n",
    "fit_xs, fit_ys = thinkstats2.FitLine(gross, inter, slope)\n",
    "plt.ticklabel_format(useOffset=False, style='plain')\n",
    "thinkplot.Plot(fit_xs, fit_ys, color='red')\n",
    "plt.title('Scatterplot of score vs gross')\n",
    "thinkplot.Config(xlabel='gross', ylabel='score', legend=False)"
   ]
  },
  {
   "cell_type": "code",
   "execution_count": 28,
   "metadata": {},
   "outputs": [
    {
     "data": {
      "image/png": "[encoded data removed]",
      "text/plain": [
       "<Figure size 432x288 with 1 Axes>"
      ]
     },
     "metadata": {
      "needs_background": "light"
     },
     "output_type": "display_data"
    }
   ],
   "source": [
    "#Creating a scatterplot for the variables score and votes\n",
    "from thinkstats2 import Mean, MeanVar, Var, Std, Cov\n",
    "def LeastSquares(xs, ys):\n",
    "    meanx, varx = MeanVar(xs)\n",
    "    meany = Mean(ys)\n",
    "\n",
    "    slope = Cov(xs, ys, meanx, meany) / varx\n",
    "    inter = meany - slope * meanx\n",
    "\n",
    "    return inter, slope\n",
    "LeastSquares(votes, score)\n",
    "thinkplot.Scatter(votes, score, alpha=0.07)\n",
    "#using the function from the book on page 119 to fit Least Squares\n",
    "inter, slope = thinkstats2.LeastSquares(votes, score)\n",
    "fit_xs, fit_ys = thinkstats2.FitLine(votes, inter, slope)\n",
    "plt.ticklabel_format(useOffset=False, style='plain')\n",
    "thinkplot.Plot(fit_xs, fit_ys, color='red')\n",
    "plt.title('Scatterplot of score vs votes')\n",
    "thinkplot.Config(xlabel='votes', ylabel='score', legend=False)"
   ]
  },
  {
   "cell_type": "code",
   "execution_count": 29,
   "metadata": {},
   "outputs": [
    {
     "name": "stdout",
     "output_type": "stream",
     "text": [
      "We can tell that the relationship is weak as a lot of points are scattered away from the line\n"
     ]
    },
    {
     "data": {
      "image/png": "[encoded data removed]",
      "text/plain": [
       "<Figure size 432x288 with 1 Axes>"
      ]
     },
     "metadata": {
      "needs_background": "light"
     },
     "output_type": "display_data"
    }
   ],
   "source": [
    "#Creating a scatterplot for the variables score and budget\n",
    "LeastSquares(budget, score)\n",
    "thinkplot.Scatter(budget, score, alpha=0.07)\n",
    "#using the function from the book on page 119\n",
    "inter, slope = thinkstats2.LeastSquares(budget, score)\n",
    "fit_xs, fit_ys = thinkstats2.FitLine(budget, inter, slope)\n",
    "thinkplot.Plot(fit_xs, fit_ys, color='red')\n",
    "plt.title('Scatterplot of score vs budget')\n",
    "plt.ticklabel_format(useOffset=False, style='plain')\n",
    "plt.xticks(rotation = 90, fontsize=9)\n",
    "thinkplot.Config(xlabel='budget', ylabel='score', legend=False)\n",
    "print(\"We can tell that the relationship is weak as a lot of points are scattered away from the line\")"
   ]
  },
  {
   "cell_type": "code",
   "execution_count": 30,
   "metadata": {},
   "outputs": [
    {
     "data": {
      "image/png": "[encoded data removed]",
      "text/plain": [
       "<Figure size 432x288 with 1 Axes>"
      ]
     },
     "metadata": {
      "needs_background": "light"
     },
     "output_type": "display_data"
    }
   ],
   "source": [
    "#Creating a scatterplot for the variables score and runtime\n",
    "LeastSquares(runtime, score)\n",
    "thinkplot.Scatter(runtime, score, alpha=0.07)\n",
    "#using the function from the book on page 119\n",
    "inter, slope = thinkstats2.LeastSquares(runtime, score)\n",
    "fit_xs, fit_ys = thinkstats2.FitLine(runtime, inter, slope)\n",
    "thinkplot.Plot(fit_xs, fit_ys, color='red')\n",
    "plt.title('Scatterplot of score vs runtime')\n",
    "thinkplot.Config(xlabel='runtime', ylabel='score', legend=False)"
   ]
  },
  {
   "cell_type": "code",
   "execution_count": 31,
   "metadata": {},
   "outputs": [],
   "source": [
    "#Calculating covarince for 4 pairs of variables which should let us know the direction of relationship between the two variables"
   ]
  },
  {
   "cell_type": "code",
   "execution_count": 32,
   "metadata": {},
   "outputs": [
    {
     "name": "stdout",
     "output_type": "stream",
     "text": [
      "15382930.280209737\n",
      "Covariance is positive which means that variables \"gross\" and \"score\" tend to increase together\n"
     ]
    }
   ],
   "source": [
    "def Cov(xs, ys, meanx=None, meany=None):\n",
    "    xs = np.asarray(xs)\n",
    "    ys = np.asarray(ys)\n",
    "\n",
    "    if meanx is None:\n",
    "        meanx = np.mean(xs)\n",
    "    if meany is None:\n",
    "        meany = np.mean(ys)\n",
    "\n",
    "    cov = np.dot(xs-meanx, ys-meany) / len(xs)\n",
    "    return cov\n",
    "\n",
    "print(Cov(gross, score))\n",
    "print('Covariance is positive which means that variables \"gross\" and \"score\" tend to increase together')"
   ]
  },
  {
   "cell_type": "code",
   "execution_count": 33,
   "metadata": {},
   "outputs": [
    {
     "name": "stdout",
     "output_type": "stream",
     "text": [
      "71071.6438416564\n",
      "Covariance is positive which means that variables \"votes\" and \"score\" tend to increase together\n"
     ]
    }
   ],
   "source": [
    "def Cov(xs, ys, meanx=None, meany=None):\n",
    "    xs = np.asarray(xs)\n",
    "    ys = np.asarray(ys)\n",
    "\n",
    "    if meanx is None:\n",
    "        meanx = np.mean(xs)\n",
    "    if meany is None:\n",
    "        meany = np.mean(ys)\n",
    "\n",
    "    cov = np.dot(xs-meanx, ys-meany) / len(xs)\n",
    "    return cov\n",
    "\n",
    "print(Cov(votes, score))\n",
    "print('Covariance is positive which means that variables \"votes\" and \"score\" tend to increase together')"
   ]
  },
  {
   "cell_type": "code",
   "execution_count": 34,
   "metadata": {},
   "outputs": [
    {
     "name": "stdout",
     "output_type": "stream",
     "text": [
      "2972822.231267399\n",
      "Covariance is positive which means that variables \"budget\" and \"score\" tend to increase together\n"
     ]
    }
   ],
   "source": [
    "def Cov(xs, ys, meanx=None, meany=None):\n",
    "    xs = np.asarray(xs)\n",
    "    ys = np.asarray(ys)\n",
    "\n",
    "    if meanx is None:\n",
    "        meanx = np.mean(xs)\n",
    "    if meany is None:\n",
    "        meany = np.mean(ys)\n",
    "\n",
    "    cov = np.dot(xs-meanx, ys-meany) / len(xs)\n",
    "    return cov\n",
    "\n",
    "print(Cov(budget, score))\n",
    "print('Covariance is positive which means that variables \"budget\" and \"score\" tend to increase together')"
   ]
  },
  {
   "cell_type": "code",
   "execution_count": 35,
   "metadata": {},
   "outputs": [
    {
     "name": "stdout",
     "output_type": "stream",
     "text": [
      "7.597574687681358\n",
      "Covariance is positive which means that variables \"runtime\" and \"score\" tend to increase together\n"
     ]
    }
   ],
   "source": [
    "def Cov(xs, ys, meanx=None, meany=None):\n",
    "    xs = np.asarray(xs)\n",
    "    ys = np.asarray(ys)\n",
    "\n",
    "    if meanx is None:\n",
    "        meanx = np.mean(xs)\n",
    "    if meany is None:\n",
    "        meany = np.mean(ys)\n",
    "\n",
    "    cov = np.dot(xs-meanx, ys-meany) / len(xs)\n",
    "    return cov\n",
    "\n",
    "print(Cov(runtime, score))\n",
    "print('Covariance is positive which means that variables \"runtime\" and \"score\" tend to increase together')"
   ]
  },
  {
   "cell_type": "code",
   "execution_count": 36,
   "metadata": {},
   "outputs": [],
   "source": [
    "#Calculating correlation coefficients for the 4 pairs of variables"
   ]
  },
  {
   "cell_type": "code",
   "execution_count": 37,
   "metadata": {},
   "outputs": [
    {
     "data": {
      "text/plain": [
       "0.22955222364472297"
      ]
     },
     "execution_count": 37,
     "metadata": {},
     "output_type": "execute_result"
    }
   ],
   "source": [
    "#Calculating correlation coefficients for gross and score\n",
    "def Corr(xs, ys):\n",
    "    xs = np.asarray(xs)\n",
    "    ys = np.asarray(ys)\n",
    "\n",
    "    meanx, varx = thinkstats2.MeanVar(xs)\n",
    "    meany, vary = thinkstats2.MeanVar(ys)\n",
    "\n",
    "    corr = Cov(xs, ys, meanx, meany) / np.sqrt(varx * vary)\n",
    "    return corr\n",
    "Corr(gross, score)"
   ]
  },
  {
   "cell_type": "code",
   "execution_count": 38,
   "metadata": {},
   "outputs": [
    {
     "data": {
      "text/plain": [
       "array([[1.        , 0.22955222],\n",
       "       [0.22955222, 1.        ]])"
      ]
     },
     "execution_count": 38,
     "metadata": {},
     "output_type": "execute_result"
    }
   ],
   "source": [
    "np.corrcoef(gross, score)"
   ]
  },
  {
   "cell_type": "code",
   "execution_count": 39,
   "metadata": {},
   "outputs": [
    {
     "data": {
      "text/plain": [
       "0.14866632964092932"
      ]
     },
     "execution_count": 39,
     "metadata": {},
     "output_type": "execute_result"
    }
   ],
   "source": [
    "import pandas as pd\n",
    "\n",
    "def SpearmanCorr(xs, ys):\n",
    "    xranks = pd.Series(xs).rank()\n",
    "    yranks = pd.Series(ys).rank()\n",
    "    return Corr(xranks, yranks)\n",
    "SpearmanCorr(gross, score)"
   ]
  },
  {
   "cell_type": "code",
   "execution_count": 40,
   "metadata": {},
   "outputs": [
    {
     "name": "stdout",
     "output_type": "stream",
     "text": [
      "There is no clear strong positive linear relationship between the two variables. Correlation coefficient is 0.2, which indicates a very weak positive correlation. \n"
     ]
    }
   ],
   "source": [
    "print('There is no clear strong positive linear relationship between the two variables. Correlation coefficient is 0.2, which indicates a very weak positive correlation. ')"
   ]
  },
  {
   "cell_type": "code",
   "execution_count": 41,
   "metadata": {},
   "outputs": [
    {
     "data": {
      "text/plain": [
       "array([[1.        , 0.47064818],\n",
       "       [0.47064818, 1.        ]])"
      ]
     },
     "execution_count": 41,
     "metadata": {},
     "output_type": "execute_result"
    }
   ],
   "source": [
    "#Calculating correlation coefficients for votes and score\n",
    "np.corrcoef(votes, score)"
   ]
  },
  {
   "cell_type": "code",
   "execution_count": 42,
   "metadata": {},
   "outputs": [
    {
     "data": {
      "text/plain": [
       "0.4706481838712041"
      ]
     },
     "execution_count": 42,
     "metadata": {},
     "output_type": "execute_result"
    }
   ],
   "source": [
    "def Corr(xs, ys):\n",
    "    xs = np.asarray(xs)\n",
    "    ys = np.asarray(ys)\n",
    "\n",
    "    meanx, varx = thinkstats2.MeanVar(xs)\n",
    "    meany, vary = thinkstats2.MeanVar(ys)\n",
    "\n",
    "    corr = Cov(xs, ys, meanx, meany) / np.sqrt(varx * vary)\n",
    "    return corr\n",
    "Corr(votes, score)"
   ]
  },
  {
   "cell_type": "code",
   "execution_count": 43,
   "metadata": {},
   "outputs": [
    {
     "data": {
      "text/plain": [
       "0.48654473279941063"
      ]
     },
     "execution_count": 43,
     "metadata": {},
     "output_type": "execute_result"
    }
   ],
   "source": [
    "import pandas as pd\n",
    "\n",
    "def SpearmanCorr(xs, ys):\n",
    "    xranks = pd.Series(xs).rank()\n",
    "    yranks = pd.Series(ys).rank()\n",
    "    return Corr(xranks, yranks)\n",
    "SpearmanCorr(votes, score)"
   ]
  },
  {
   "cell_type": "code",
   "execution_count": 44,
   "metadata": {},
   "outputs": [
    {
     "name": "stdout",
     "output_type": "stream",
     "text": [
      "Correlation coefficient of 0.49 indicates evidence of a linear relationship that is close to moderate positive linear relationship\n"
     ]
    }
   ],
   "source": [
    "print('Correlation coefficient of 0.49 indicates evidence of a linear relationship that is close to moderate positive linear relationship')"
   ]
  },
  {
   "cell_type": "code",
   "execution_count": 45,
   "metadata": {},
   "outputs": [
    {
     "data": {
      "text/plain": [
       "0.07357931787944047"
      ]
     },
     "execution_count": 45,
     "metadata": {},
     "output_type": "execute_result"
    }
   ],
   "source": [
    "#Calculating correlation coefficients for budget and score\n",
    "def Corr(xs, ys):\n",
    "    xs = np.asarray(xs)\n",
    "    ys = np.asarray(ys)\n",
    "\n",
    "    meanx, varx = thinkstats2.MeanVar(xs)\n",
    "    meany, vary = thinkstats2.MeanVar(ys)\n",
    "\n",
    "    corr = Cov(xs, ys, meanx, meany) / np.sqrt(varx * vary)\n",
    "    return corr\n",
    "Corr( budget, score)"
   ]
  },
  {
   "cell_type": "code",
   "execution_count": 46,
   "metadata": {},
   "outputs": [
    {
     "data": {
      "text/plain": [
       "array([[1.        , 0.07357932],\n",
       "       [0.07357932, 1.        ]])"
      ]
     },
     "execution_count": 46,
     "metadata": {},
     "output_type": "execute_result"
    }
   ],
   "source": [
    "np.corrcoef(budget, score)"
   ]
  },
  {
   "cell_type": "code",
   "execution_count": 47,
   "metadata": {},
   "outputs": [
    {
     "data": {
      "text/plain": [
       "-0.01251509307528452"
      ]
     },
     "execution_count": 47,
     "metadata": {},
     "output_type": "execute_result"
    }
   ],
   "source": [
    "def SpearmanCorr(xs, ys):\n",
    "    xranks = pd.Series(xs).rank()\n",
    "    yranks = pd.Series(ys).rank()\n",
    "    return Corr(xranks, yranks)\n",
    "SpearmanCorr(budget, score)"
   ]
  },
  {
   "cell_type": "code",
   "execution_count": 48,
   "metadata": {
    "scrolled": true
   },
   "outputs": [
    {
     "name": "stdout",
     "output_type": "stream",
     "text": [
      "Creating a simple linear regression model where I get the change in scores as a function of budget to see whether the relationship is positive\n",
      "Intercept   6.29   (0)\n",
      "budget   1.86e-09   (5.26e-07)\n",
      "R^2 0.005414\n",
      "Std(ys) 1.011\n",
      "Std(res) 1.008\n"
     ]
    }
   ],
   "source": [
    "print('Creating a simple linear regression model where I get the change in scores as a function of budget to see whether the relationship is positive')\n",
    "import statsmodels.formula.api as smf\n",
    "formula = ('score ~ budget')\n",
    "results = smf.ols(formula, data=df).fit()\n",
    "#using thinkstats function instead of results.summary to get the main results and compare RMSEs.\n",
    "def SummarizeResults(results):\n",
    "    for name, param in results.params.items():\n",
    "        pvalue = results.pvalues[name]\n",
    "        print('%s   %0.3g   (%.3g)' % (name, param, pvalue))\n",
    "\n",
    "    try:\n",
    "        print('R^2 %.4g' % results.rsquared)\n",
    "        ys = results.model.endog\n",
    "        print('Std(ys) %.4g' % ys.std())\n",
    "        print('Std(res) %.4g' % results.resid.std())\n",
    "    except AttributeError:\n",
    "        print('R^2 %.4g' % results.prsquared)\n",
    "SummarizeResults(results)\n"
   ]
  },
  {
   "cell_type": "code",
   "execution_count": 49,
   "metadata": {},
   "outputs": [
    {
     "name": "stdout",
     "output_type": "stream",
     "text": [
      "By looking at the correlation coefficients we can tell that there is extremely weak positive relationship. A movie with a high budget does not guarantee a  high popularity rating. Also, the Spearman and Pearson coefficients have diiferent signs.\n",
      "I believe the relationship is extremely weak, statistically significant and positive. My explanation: covariance is positive, simple regression shows a positive relationship and the plot showed more of a positive relationship, and I was able to fit Linear Squares without a curvature.\n",
      "I believe that results of a Pearson's correlation are more correct.\n"
     ]
    }
   ],
   "source": [
    "print(\"By looking at the correlation coefficients we can tell that there is extremely weak positive relationship. A movie with a high budget does not guarantee a  high popularity rating. Also, the Spearman and Pearson coefficients have diiferent signs.\")\n",
    "print(\"I believe the relationship is extremely weak, statistically significant and positive. My explanation: covariance is positive, simple regression shows a positive relationship and the plot showed more of a positive relationship, and I was able to fit Linear Squares without a curvature.\")\n",
    "print(\"I believe that results of a Pearson's correlation are more correct.\")"
   ]
  },
  {
   "cell_type": "code",
   "execution_count": 50,
   "metadata": {},
   "outputs": [
    {
     "data": {
      "text/plain": [
       "0.4170308090019616"
      ]
     },
     "execution_count": 50,
     "metadata": {},
     "output_type": "execute_result"
    }
   ],
   "source": [
    "#looking at covariance of runtime and score\n",
    "def Corr(xs, ys):\n",
    "    xs = np.asarray(xs)\n",
    "    ys = np.asarray(ys)\n",
    "\n",
    "    meanx, varx = thinkstats2.MeanVar(xs)\n",
    "    meany, vary = thinkstats2.MeanVar(ys)\n",
    "\n",
    "    corr = Cov(xs, ys, meanx, meany) / np.sqrt(varx * vary)\n",
    "    return corr\n",
    "Corr(runtime, score)"
   ]
  },
  {
   "cell_type": "code",
   "execution_count": 51,
   "metadata": {},
   "outputs": [
    {
     "data": {
      "text/plain": [
       "0.4195377570050138"
      ]
     },
     "execution_count": 51,
     "metadata": {},
     "output_type": "execute_result"
    }
   ],
   "source": [
    "import pandas as pd\n",
    "\n",
    "def SpearmanCorr(xs, ys):\n",
    "    xranks = pd.Series(xs).rank()\n",
    "    yranks = pd.Series(ys).rank()\n",
    "    return Corr(xranks, yranks)\n",
    "SpearmanCorr(runtime, score)"
   ]
  },
  {
   "cell_type": "code",
   "execution_count": 52,
   "metadata": {},
   "outputs": [
    {
     "name": "stdout",
     "output_type": "stream",
     "text": [
      "There is a positive linear relationship between two variables \"runtime\" and \"score\". Correlation coefficient is 0.41 which is an indicator of a relationship close to moderate linear realationship.\n"
     ]
    }
   ],
   "source": [
    "print('There is a positive linear relationship between two variables \"runtime\" and \"score\". Correlation coefficient is 0.41 which is an indicator of a relationship close to moderate linear realationship.')"
   ]
  },
  {
   "cell_type": "code",
   "execution_count": 53,
   "metadata": {},
   "outputs": [
    {
     "name": "stdout",
     "output_type": "stream",
     "text": [
      "For the test that checks whether the differences between the scores of horror movies and the scores of other genres is statistically significant we get p-value:  0.0\n",
      "This is a small p-value which indicates that the differences are statistically significant.\n",
      "---------------------------------------------------------------------------\n"
     ]
    },
    {
     "data": {
      "image/png": "[encoded data removed]",
      "text/plain": [
       "<Figure size 432x288 with 1 Axes>"
      ]
     },
     "metadata": {
      "needs_background": "light"
     },
     "output_type": "display_data"
    },
    {
     "name": "stdout",
     "output_type": "stream",
     "text": [
      "As we can see, our simulation did not yield the effect as big as the observed difference of means we calculated earlier 0.67 score points.\n",
      "p-value is  0.0 . The difference in scores is statistically significant.\n",
      "---------------------------------------------------------------------------\n",
      "Testing significance of relationships between variables:\n",
      "---------------------------------------------------------------------------\n",
      "\n",
      "The null hypothesis is that correlation between the value \"gross\" and the value \"score\" does not exist.\n",
      "p value of 0.0 is good evidence to reject the null hypothesis that there is no correlation. The correlation observed is statistically significant.\n",
      "The null hypothesis is that correlation between the value \"votes\" and the value \"score\" does not exist.\n",
      "p value of 0.0 is good evidence to reject the null hypothesis that there is no correlation. The correlation observed is statistically significant.\n",
      "The null hypothesis is that correlation between the value \"budget\" and the value \"score\" does not exist.\n",
      "p value of 0.0 is good evidence to reject the null hypothesis that there is no correlation. The correlation observed is statistically significant.\n",
      "The null hypothesis is that correlation between the value \"runtime\" and the value \"score\" does not exist.\n",
      "p value of 0.0 is good evidence to reject the null hypothesis that there is no correlation. The correlation observed is statistically significant.\n"
     ]
    },
    {
     "data": {
      "text/plain": [
       "<Figure size 576x432 with 0 Axes>"
      ]
     },
     "metadata": {},
     "output_type": "display_data"
    }
   ],
   "source": [
    "# Working with the horror and others for this assignment to test the hypothesis that horror movies are rated low.\n",
    "#Also, testing the correlation between the variables.\n",
    "#Using thinkstats functions and classes I am running a few tests to see the p-values. \n",
    "import thinkstats2\n",
    "import numpy as np\n",
    "import first\n",
    "import random\n",
    " \n",
    "#Creating a class ScoresTest which should help with the Chi-Squared .\n",
    "class ScoresTest(thinkstats2.HypothesisTest):\n",
    "\n",
    "    def MakeModel(self):\n",
    "        horror_scores = score_horror.values\n",
    "        others_scores = score_others.values\n",
    "        horror_scores, others_scores = self.data\n",
    "        self.n = len(score_horror)\n",
    "        self.pool = np.hstack((horror_scores, others_scores))\n",
    "\n",
    "        pmf = thinkstats2.Pmf(self.pool)\n",
    "        self.values = range(1, 10)\n",
    "        self.expected_probs = np.array(pmf.Probs(self.values))\n",
    "\n",
    "    def RunModel(self):\n",
    "        np.random.shuffle(self.pool)\n",
    "        data = self.pool[:self.n], self.pool[self.n:]\n",
    "        return data\n",
    "    \n",
    "    def TestStatistic(self, data):\n",
    "        horror_scores, others_scores = data\n",
    "        stat = self.ChiSquared(horror_scores) + self.ChiSquared(others_scores)\n",
    "        return stat\n",
    "\n",
    "    def ChiSquared(self, scores):\n",
    "        hist = thinkstats2.Hist(scores)\n",
    "        observed = np.array(hist.Freqs(self.values))\n",
    "        expected = self.expected_probs * len(scores)\n",
    "        stat = sum((observed - expected)**2 / expected)\n",
    "        return stat\n",
    "\n",
    "# comparing scores of horror movies and those of other genres\n",
    "data = score_horror.values, score_others.values\n",
    "ht = ScoresTest(data)\n",
    "iters = 1000\n",
    "p3 = ht.PValue(iters=iters)\n",
    "print('For the test that checks whether the differences between the scores of horror movies and the scores of other genres is statistically significant we get p-value: ',p3)\n",
    "print('This is a small p-value which indicates that the differences are statistically significant.')\n",
    "\n",
    "#The null hypothesis is that the distributions for horror scores and others are the same. \n",
    "#Using permutation we will model the null hypothesis\n",
    "class DiffMeansPermute(thinkstats2.HypothesisTest):\n",
    "\n",
    "    def TestStatistic(self, data):\n",
    "        group1, group2 = data\n",
    "        test_stat = abs(group1.mean() - group2.mean())\n",
    "        return test_stat\n",
    "\n",
    "    def MakeModel(self):\n",
    "        group1, group2 = self.data\n",
    "        self.n, self.m = len(group1), len(group2)\n",
    "        self.pool = np.hstack((group1, group2))\n",
    "\n",
    "    def RunModel(self):\n",
    "        np.random.shuffle(self.pool)\n",
    "        data = self.pool[:self.n], self.pool[self.n:]\n",
    "        return data\n",
    "data = (score_horror.values,score_others.values)\n",
    "iters = 1000\n",
    "ht = DiffMeansPermute(data)\n",
    "p1 = ht.PValue(iters=iters)\n",
    "print(\"---------------------------------------------------------------------------\")\n",
    "ht.PlotCdf()\n",
    "plt.title('Permutation test')\n",
    "plt.xlim(0.0, 0.8)\n",
    "thinkplot.Show(xlabel = 'Difference in means(horror and others)',ylabel = 'CDF')\n",
    "print('As we can see, our simulation did not yield the effect as big as the observed difference of means we calculated earlier 0.67 score points.')\n",
    "print('p-value is ', p1, '. The difference in scores is statistically significant.')\n",
    "print('---------------------------------------------------------------------------')\n",
    "print('Testing significance of relationships between variables:')\n",
    "print('---------------------------------------------------------------------------\\n')\n",
    "class CorrelationPermute(thinkstats2.HypothesisTest):\n",
    "\n",
    "    def TestStatistic(self, data):\n",
    "        xs, ys = data\n",
    "        test_stat = abs(thinkstats2.Corr(xs, ys))\n",
    "        return test_stat\n",
    "\n",
    "    def RunModel(self):\n",
    "        xs, ys = self.data\n",
    "        xs = np.random.permutation(xs)\n",
    "        return xs, ys\n",
    "df1 = df.dropna(subset=['score', 'gross'])\n",
    "data = df1.gross.values, df1.score.values\n",
    "ht = CorrelationPermute(data)\n",
    "p2 = ht.PValue(iters=iters)\n",
    "print('The null hypothesis is that correlation between the value \"gross\" and the value \"score\" does not exist.')\n",
    "print('p value of', p2, 'is good evidence to reject the null hypothesis that there is no correlation. The correlation observed is statistically significant.')\n",
    "df1 = df.dropna(subset=['score', 'votes'])\n",
    "data = df1.votes.values, df1.score.values\n",
    "ht = CorrelationPermute(data)\n",
    "p2 = ht.PValue(iters=iters)\n",
    "print('The null hypothesis is that correlation between the value \"votes\" and the value \"score\" does not exist.')\n",
    "print('p value of', p2, 'is good evidence to reject the null hypothesis that there is no correlation. The correlation observed is statistically significant.')\n",
    "df1 = df.dropna(subset=['score', 'budget'])\n",
    "data = df1.budget.values, df1.score.values\n",
    "ht = CorrelationPermute(data)\n",
    "p2 = ht.PValue(iters=iters)\n",
    "print('The null hypothesis is that correlation between the value \"budget\" and the value \"score\" does not exist.')\n",
    "print('p value of', p2, 'is good evidence to reject the null hypothesis that there is no correlation. The correlation observed is statistically significant.')\n",
    "\n",
    "df1 = df.dropna(subset=['score', 'runtime'])\n",
    "data = df1.runtime.values, df1.score.values\n",
    "ht = CorrelationPermute(data)\n",
    "p2 = ht.PValue(iters=iters)\n",
    "print('The null hypothesis is that correlation between the value \"runtime\" and the value \"score\" does not exist.')\n",
    "print('p value of', p2, 'is good evidence to reject the null hypothesis that there is no correlation. The correlation observed is statistically significant.')\n"
   ]
  },
  {
   "cell_type": "code",
   "execution_count": 54,
   "metadata": {},
   "outputs": [
    {
     "data": {
      "image/png": "[encoded data removed]",
      "text/plain": [
       "<Figure size 432x288 with 2 Axes>"
      ]
     },
     "metadata": {
      "needs_background": "light"
     },
     "output_type": "display_data"
    }
   ],
   "source": [
    "#Checking for possible issues with multicollinearity before we build a model. Creating a heataop to see if any of the variables are correlated highly with each other.\n",
    "#gross and budget could be of concern; votes and gross could be of concern as well.\n",
    "from pandas import DataFrame\n",
    "import seaborn as sn\n",
    "df1 = DataFrame(df,columns=['score','gross','budget', 'runtime', 'votes'])\n",
    "warnings.filterwarnings('ignore')\n",
    "corrMatrix = df1.corr()\n",
    "sn.heatmap(corrMatrix, annot=True);"
   ]
  },
  {
   "cell_type": "code",
   "execution_count": 55,
   "metadata": {},
   "outputs": [
    {
     "data": {
      "text/plain": [
       "score       1.504287\n",
       "gross       2.548072\n",
       "budget      2.033098\n",
       "runtime     1.358285\n",
       "votes       2.136156\n",
       "const      66.936457\n",
       "dtype: float64"
      ]
     },
     "execution_count": 55,
     "metadata": {},
     "output_type": "execute_result"
    }
   ],
   "source": [
    "#Looking at VIF of all of the variables involved. \"gross\", \"budget\", and \"votes\" have values above 2. \n",
    "#According to these articles (https://www.displayr.com/variance-inflation-factors-vifs/ and another article: https://statisticalhorizons.com/multicollinearity) \n",
    "#variables gross, budget and votes could be of concern. \n",
    "\n",
    "from statsmodels.stats.outliers_influence import variance_inflation_factor\n",
    "warnings.filterwarnings('ignore')\n",
    "X = df1.assign(const=1)\n",
    "pd.Series([variance_inflation_factor(X.values, i) \n",
    "            for i in range(X.shape[1])], \n",
    "              index=X.columns)"
   ]
  },
  {
   "cell_type": "code",
   "execution_count": 56,
   "metadata": {
    "scrolled": true
   },
   "outputs": [
    {
     "name": "stdout",
     "output_type": "stream",
     "text": [
      "Creating a multiple regression model where I get the change in scores as a function of runtime\n",
      "Intercept   3.84   (0)\n",
      "runtime   0.0234   (1.29e-194)\n",
      "R^2 0.1739\n",
      "Std(ys) 1.011\n",
      "Std(res) 0.9189\n"
     ]
    },
    {
     "data": {
      "text/html": [
       "<table class=\"simpletable\">\n",
       "<caption>OLS Regression Results</caption>\n",
       "<tr>\n",
       "  <th>Dep. Variable:</th>          <td>score</td>      <th>  R-squared:         </th> <td>   0.174</td> \n",
       "</tr>\n",
       "<tr>\n",
       "  <th>Model:</th>                   <td>OLS</td>       <th>  Adj. R-squared:    </th> <td>   0.174</td> \n",
       "</tr>\n",
       "<tr>\n",
       "  <th>Method:</th>             <td>Least Squares</td>  <th>  F-statistic:       </th> <td>   976.0</td> \n",
       "</tr>\n",
       "<tr>\n",
       "  <th>Date:</th>             <td>Fri, 28 Feb 2020</td> <th>  Prob (F-statistic):</th> <td>1.29e-194</td>\n",
       "</tr>\n",
       "<tr>\n",
       "  <th>Time:</th>                 <td>20:42:37</td>     <th>  Log-Likelihood:    </th> <td> -6188.5</td> \n",
       "</tr>\n",
       "<tr>\n",
       "  <th>No. Observations:</th>      <td>  4638</td>      <th>  AIC:               </th> <td>1.238e+04</td>\n",
       "</tr>\n",
       "<tr>\n",
       "  <th>Df Residuals:</th>          <td>  4636</td>      <th>  BIC:               </th> <td>1.239e+04</td>\n",
       "</tr>\n",
       "<tr>\n",
       "  <th>Df Model:</th>              <td>     1</td>      <th>                     </th>     <td> </td>    \n",
       "</tr>\n",
       "<tr>\n",
       "  <th>Covariance Type:</th>      <td>nonrobust</td>    <th>                     </th>     <td> </td>    \n",
       "</tr>\n",
       "</table>\n",
       "<table class=\"simpletable\">\n",
       "<tr>\n",
       "      <td></td>         <th>coef</th>     <th>std err</th>      <th>t</th>      <th>P>|t|</th>  <th>[0.025</th>    <th>0.975]</th>  \n",
       "</tr>\n",
       "<tr>\n",
       "  <th>Intercept</th> <td>    3.8391</td> <td>    0.082</td> <td>   46.993</td> <td> 0.000</td> <td>    3.679</td> <td>    3.999</td>\n",
       "</tr>\n",
       "<tr>\n",
       "  <th>runtime</th>   <td>    0.0234</td> <td>    0.001</td> <td>   31.241</td> <td> 0.000</td> <td>    0.022</td> <td>    0.025</td>\n",
       "</tr>\n",
       "</table>\n",
       "<table class=\"simpletable\">\n",
       "<tr>\n",
       "  <th>Omnibus:</th>       <td>403.181</td> <th>  Durbin-Watson:     </th> <td>   1.792</td> \n",
       "</tr>\n",
       "<tr>\n",
       "  <th>Prob(Omnibus):</th> <td> 0.000</td>  <th>  Jarque-Bera (JB):  </th> <td> 645.434</td> \n",
       "</tr>\n",
       "<tr>\n",
       "  <th>Skew:</th>          <td>-0.650</td>  <th>  Prob(JB):          </th> <td>7.01e-141</td>\n",
       "</tr>\n",
       "<tr>\n",
       "  <th>Kurtosis:</th>      <td> 4.284</td>  <th>  Cond. No.          </th> <td>    660.</td> \n",
       "</tr>\n",
       "</table><br/><br/>Warnings:<br/>[1] Standard Errors assume that the covariance matrix of the errors is correctly specified."
      ],
      "text/plain": [
       "<class 'statsmodels.iolib.summary.Summary'>\n",
       "\"\"\"\n",
       "                            OLS Regression Results                            \n",
       "==============================================================================\n",
       "Dep. Variable:                  score   R-squared:                       0.174\n",
       "Model:                            OLS   Adj. R-squared:                  0.174\n",
       "Method:                 Least Squares   F-statistic:                     976.0\n",
       "Date:                Fri, 28 Feb 2020   Prob (F-statistic):          1.29e-194\n",
       "Time:                        20:42:37   Log-Likelihood:                -6188.5\n",
       "No. Observations:                4638   AIC:                         1.238e+04\n",
       "Df Residuals:                    4636   BIC:                         1.239e+04\n",
       "Df Model:                           1                                         \n",
       "Covariance Type:            nonrobust                                         \n",
       "==============================================================================\n",
       "                 coef    std err          t      P>|t|      [0.025      0.975]\n",
       "------------------------------------------------------------------------------\n",
       "Intercept      3.8391      0.082     46.993      0.000       3.679       3.999\n",
       "runtime        0.0234      0.001     31.241      0.000       0.022       0.025\n",
       "==============================================================================\n",
       "Omnibus:                      403.181   Durbin-Watson:                   1.792\n",
       "Prob(Omnibus):                  0.000   Jarque-Bera (JB):              645.434\n",
       "Skew:                          -0.650   Prob(JB):                    7.01e-141\n",
       "Kurtosis:                       4.284   Cond. No.                         660.\n",
       "==============================================================================\n",
       "\n",
       "Warnings:\n",
       "[1] Standard Errors assume that the covariance matrix of the errors is correctly specified.\n",
       "\"\"\""
      ]
     },
     "execution_count": 56,
     "metadata": {},
     "output_type": "execute_result"
    }
   ],
   "source": [
    "print('Creating a multiple regression model where I get the change in scores as a function of runtime')\n",
    "import statsmodels.formula.api as smf\n",
    "formula = 'score~runtime'\n",
    "model = smf.ols(formula, data = df)\n",
    "results = model.fit()\n",
    "def SummarizeResults(results):\n",
    "    for name, param in results.params.items():\n",
    "        pvalue = results.pvalues[name]\n",
    "        print('%s   %0.3g   (%.3g)' % (name, param, pvalue))\n",
    "\n",
    "    try:\n",
    "        print('R^2 %.4g' % results.rsquared)\n",
    "        ys = results.model.endog\n",
    "        print('Std(ys) %.4g' % ys.std())\n",
    "        print('Std(res) %.4g' % results.resid.std())\n",
    "    except AttributeError:\n",
    "        print('R^2 %.4g' % results.prsquared)\n",
    "SummarizeResults(results)\n",
    "results.summary() "
   ]
  },
  {
   "cell_type": "code",
   "execution_count": 57,
   "metadata": {},
   "outputs": [
    {
     "name": "stdout",
     "output_type": "stream",
     "text": [
      "R-squared for this model is 0.1739, which indicates that variables runtime accounts for 17.4 percent of the variation in the scores\n",
      "The parameters are statistically significant.\n",
      "The difference between the standard deviation of the outcome variable \"score\" and the standard deviation of the residuals is 0.09, which indicates that knowing the runtime provides some improvement to the predictions\n"
     ]
    }
   ],
   "source": [
    "print('R-squared for this model is 0.1739, which indicates that variables runtime accounts for 17.4 percent of the variation in the scores')\n",
    "print('The parameters are statistically significant.')\n",
    "print('The difference between the standard deviation of the outcome variable \"score\" and the standard deviation of the residuals is 0.09, which indicates that knowing the runtime provides some improvement to the predictions')"
   ]
  },
  {
   "cell_type": "code",
   "execution_count": 58,
   "metadata": {},
   "outputs": [
    {
     "name": "stdout",
     "output_type": "stream",
     "text": [
      "Creating a multiple regression model where I get the change in scores as a function of votes\n",
      "Intercept   6.05   (0)\n",
      "votes   3.19e-06   (2.09e-254)\n",
      "R^2 0.2215\n",
      "Std(ys) 1.011\n",
      "Std(res) 0.8921\n"
     ]
    },
    {
     "data": {
      "text/html": [
       "<table class=\"simpletable\">\n",
       "<caption>OLS Regression Results</caption>\n",
       "<tr>\n",
       "  <th>Dep. Variable:</th>          <td>score</td>      <th>  R-squared:         </th> <td>   0.222</td> \n",
       "</tr>\n",
       "<tr>\n",
       "  <th>Model:</th>                   <td>OLS</td>       <th>  Adj. R-squared:    </th> <td>   0.221</td> \n",
       "</tr>\n",
       "<tr>\n",
       "  <th>Method:</th>             <td>Least Squares</td>  <th>  F-statistic:       </th> <td>   1319.</td> \n",
       "</tr>\n",
       "<tr>\n",
       "  <th>Date:</th>             <td>Fri, 28 Feb 2020</td> <th>  Prob (F-statistic):</th> <td>2.09e-254</td>\n",
       "</tr>\n",
       "<tr>\n",
       "  <th>Time:</th>                 <td>20:42:37</td>     <th>  Log-Likelihood:    </th> <td> -6050.9</td> \n",
       "</tr>\n",
       "<tr>\n",
       "  <th>No. Observations:</th>      <td>  4638</td>      <th>  AIC:               </th> <td>1.211e+04</td>\n",
       "</tr>\n",
       "<tr>\n",
       "  <th>Df Residuals:</th>          <td>  4636</td>      <th>  BIC:               </th> <td>1.212e+04</td>\n",
       "</tr>\n",
       "<tr>\n",
       "  <th>Df Model:</th>              <td>     1</td>      <th>                     </th>     <td> </td>    \n",
       "</tr>\n",
       "<tr>\n",
       "  <th>Covariance Type:</th>      <td>nonrobust</td>    <th>                     </th>     <td> </td>    \n",
       "</tr>\n",
       "</table>\n",
       "<table class=\"simpletable\">\n",
       "<tr>\n",
       "      <td></td>         <th>coef</th>     <th>std err</th>      <th>t</th>      <th>P>|t|</th>  <th>[0.025</th>    <th>0.975]</th>  \n",
       "</tr>\n",
       "<tr>\n",
       "  <th>Intercept</th> <td>    6.0515</td> <td>    0.016</td> <td>  388.945</td> <td> 0.000</td> <td>    6.021</td> <td>    6.082</td>\n",
       "</tr>\n",
       "<tr>\n",
       "  <th>votes</th>     <td> 3.185e-06</td> <td> 8.77e-08</td> <td>   36.320</td> <td> 0.000</td> <td> 3.01e-06</td> <td> 3.36e-06</td>\n",
       "</tr>\n",
       "</table>\n",
       "<table class=\"simpletable\">\n",
       "<tr>\n",
       "  <th>Omnibus:</th>       <td>643.538</td> <th>  Durbin-Watson:     </th> <td>   1.909</td> \n",
       "</tr>\n",
       "<tr>\n",
       "  <th>Prob(Omnibus):</th> <td> 0.000</td>  <th>  Jarque-Bera (JB):  </th> <td>1189.842</td> \n",
       "</tr>\n",
       "<tr>\n",
       "  <th>Skew:</th>          <td>-0.887</td>  <th>  Prob(JB):          </th> <td>4.26e-259</td>\n",
       "</tr>\n",
       "<tr>\n",
       "  <th>Kurtosis:</th>      <td> 4.734</td>  <th>  Cond. No.          </th> <td>2.11e+05</td> \n",
       "</tr>\n",
       "</table><br/><br/>Warnings:<br/>[1] Standard Errors assume that the covariance matrix of the errors is correctly specified.<br/>[2] The condition number is large, 2.11e+05. This might indicate that there are<br/>strong multicollinearity or other numerical problems."
      ],
      "text/plain": [
       "<class 'statsmodels.iolib.summary.Summary'>\n",
       "\"\"\"\n",
       "                            OLS Regression Results                            \n",
       "==============================================================================\n",
       "Dep. Variable:                  score   R-squared:                       0.222\n",
       "Model:                            OLS   Adj. R-squared:                  0.221\n",
       "Method:                 Least Squares   F-statistic:                     1319.\n",
       "Date:                Fri, 28 Feb 2020   Prob (F-statistic):          2.09e-254\n",
       "Time:                        20:42:37   Log-Likelihood:                -6050.9\n",
       "No. Observations:                4638   AIC:                         1.211e+04\n",
       "Df Residuals:                    4636   BIC:                         1.212e+04\n",
       "Df Model:                           1                                         \n",
       "Covariance Type:            nonrobust                                         \n",
       "==============================================================================\n",
       "                 coef    std err          t      P>|t|      [0.025      0.975]\n",
       "------------------------------------------------------------------------------\n",
       "Intercept      6.0515      0.016    388.945      0.000       6.021       6.082\n",
       "votes       3.185e-06   8.77e-08     36.320      0.000    3.01e-06    3.36e-06\n",
       "==============================================================================\n",
       "Omnibus:                      643.538   Durbin-Watson:                   1.909\n",
       "Prob(Omnibus):                  0.000   Jarque-Bera (JB):             1189.842\n",
       "Skew:                          -0.887   Prob(JB):                    4.26e-259\n",
       "Kurtosis:                       4.734   Cond. No.                     2.11e+05\n",
       "==============================================================================\n",
       "\n",
       "Warnings:\n",
       "[1] Standard Errors assume that the covariance matrix of the errors is correctly specified.\n",
       "[2] The condition number is large, 2.11e+05. This might indicate that there are\n",
       "strong multicollinearity or other numerical problems.\n",
       "\"\"\""
      ]
     },
     "execution_count": 58,
     "metadata": {},
     "output_type": "execute_result"
    }
   ],
   "source": [
    "print('Creating a multiple regression model where I get the change in scores as a function of votes')\n",
    "import statsmodels.formula.api as smf\n",
    "formula = 'score~votes'\n",
    "model = smf.ols(formula, data = df)\n",
    "results = model.fit()\n",
    "def SummarizeResults(results):\n",
    "    for name, param in results.params.items():\n",
    "        pvalue = results.pvalues[name]\n",
    "        print('%s   %0.3g   (%.3g)' % (name, param, pvalue))\n",
    "\n",
    "    try:\n",
    "        print('R^2 %.4g' % results.rsquared)\n",
    "        ys = results.model.endog\n",
    "        print('Std(ys) %.4g' % ys.std())\n",
    "        print('Std(res) %.4g' % results.resid.std())\n",
    "    except AttributeError:\n",
    "        print('R^2 %.4g' % results.prsquared)\n",
    "SummarizeResults(results)\n",
    "results.summary() "
   ]
  },
  {
   "cell_type": "code",
   "execution_count": 59,
   "metadata": {},
   "outputs": [
    {
     "name": "stdout",
     "output_type": "stream",
     "text": [
      "The warning about potential multicollinearity.\n",
      "R-squared for this model is 0.222, which indicates that variable \"votes\" accounts for 22.2 percent of the variation in the scores\n",
      "The parameters are statistically significant.\n",
      "The difference between the standard deviation of the outcome variable \"score\" and the standard deviation of the residuals is 0.1189, which indicates that knowing the \"votes\" provides some improvement to the predictions\n"
     ]
    }
   ],
   "source": [
    "print(\"The warning about potential multicollinearity.\")\n",
    "print('R-squared for this model is 0.222, which indicates that variable \"votes\" accounts for 22.2 percent of the variation in the scores')\n",
    "print('The parameters are statistically significant.')\n",
    "print('The difference between the standard deviation of the outcome variable \"score\" and the standard deviation of the residuals is 0.1189, which indicates that knowing the \"votes\" provides some improvement to the predictions')"
   ]
  },
  {
   "cell_type": "code",
   "execution_count": 60,
   "metadata": {},
   "outputs": [
    {
     "name": "stdout",
     "output_type": "stream",
     "text": [
      "Creating a multiple regression model where I get the change in scores as a function of  gross\n",
      "Intercept   6.2   (0)\n",
      "gross   3.5e-09   (1.62e-56)\n",
      "R^2 0.05269\n",
      "Std(ys) 1.011\n",
      "Std(res) 0.9841\n"
     ]
    },
    {
     "data": {
      "text/html": [
       "<table class=\"simpletable\">\n",
       "<caption>OLS Regression Results</caption>\n",
       "<tr>\n",
       "  <th>Dep. Variable:</th>          <td>score</td>      <th>  R-squared:         </th> <td>   0.053</td> \n",
       "</tr>\n",
       "<tr>\n",
       "  <th>Model:</th>                   <td>OLS</td>       <th>  Adj. R-squared:    </th> <td>   0.052</td> \n",
       "</tr>\n",
       "<tr>\n",
       "  <th>Method:</th>             <td>Least Squares</td>  <th>  F-statistic:       </th> <td>   257.9</td> \n",
       "</tr>\n",
       "<tr>\n",
       "  <th>Date:</th>             <td>Fri, 28 Feb 2020</td> <th>  Prob (F-statistic):</th> <td>1.62e-56</td> \n",
       "</tr>\n",
       "<tr>\n",
       "  <th>Time:</th>                 <td>20:42:40</td>     <th>  Log-Likelihood:    </th> <td> -6506.0</td> \n",
       "</tr>\n",
       "<tr>\n",
       "  <th>No. Observations:</th>      <td>  4638</td>      <th>  AIC:               </th> <td>1.302e+04</td>\n",
       "</tr>\n",
       "<tr>\n",
       "  <th>Df Residuals:</th>          <td>  4636</td>      <th>  BIC:               </th> <td>1.303e+04</td>\n",
       "</tr>\n",
       "<tr>\n",
       "  <th>Df Model:</th>              <td>     1</td>      <th>                     </th>     <td> </td>    \n",
       "</tr>\n",
       "<tr>\n",
       "  <th>Covariance Type:</th>      <td>nonrobust</td>    <th>                     </th>     <td> </td>    \n",
       "</tr>\n",
       "</table>\n",
       "<table class=\"simpletable\">\n",
       "<tr>\n",
       "      <td></td>         <th>coef</th>     <th>std err</th>      <th>t</th>      <th>P>|t|</th>  <th>[0.025</th>    <th>0.975]</th>  \n",
       "</tr>\n",
       "<tr>\n",
       "  <th>Intercept</th> <td>    6.1950</td> <td>    0.018</td> <td>  352.003</td> <td> 0.000</td> <td>    6.161</td> <td>    6.230</td>\n",
       "</tr>\n",
       "<tr>\n",
       "  <th>gross</th>     <td> 3.501e-09</td> <td> 2.18e-10</td> <td>   16.059</td> <td> 0.000</td> <td> 3.07e-09</td> <td> 3.93e-09</td>\n",
       "</tr>\n",
       "</table>\n",
       "<table class=\"simpletable\">\n",
       "<tr>\n",
       "  <th>Omnibus:</th>       <td>382.413</td> <th>  Durbin-Watson:     </th> <td>   1.775</td> \n",
       "</tr>\n",
       "<tr>\n",
       "  <th>Prob(Omnibus):</th> <td> 0.000</td>  <th>  Jarque-Bera (JB):  </th> <td> 557.742</td> \n",
       "</tr>\n",
       "<tr>\n",
       "  <th>Skew:</th>          <td>-0.659</td>  <th>  Prob(JB):          </th> <td>7.72e-122</td>\n",
       "</tr>\n",
       "<tr>\n",
       "  <th>Kurtosis:</th>      <td> 4.071</td>  <th>  Cond. No.          </th> <td>9.83e+07</td> \n",
       "</tr>\n",
       "</table><br/><br/>Warnings:<br/>[1] Standard Errors assume that the covariance matrix of the errors is correctly specified.<br/>[2] The condition number is large, 9.83e+07. This might indicate that there are<br/>strong multicollinearity or other numerical problems."
      ],
      "text/plain": [
       "<class 'statsmodels.iolib.summary.Summary'>\n",
       "\"\"\"\n",
       "                            OLS Regression Results                            \n",
       "==============================================================================\n",
       "Dep. Variable:                  score   R-squared:                       0.053\n",
       "Model:                            OLS   Adj. R-squared:                  0.052\n",
       "Method:                 Least Squares   F-statistic:                     257.9\n",
       "Date:                Fri, 28 Feb 2020   Prob (F-statistic):           1.62e-56\n",
       "Time:                        20:42:40   Log-Likelihood:                -6506.0\n",
       "No. Observations:                4638   AIC:                         1.302e+04\n",
       "Df Residuals:                    4636   BIC:                         1.303e+04\n",
       "Df Model:                           1                                         \n",
       "Covariance Type:            nonrobust                                         \n",
       "==============================================================================\n",
       "                 coef    std err          t      P>|t|      [0.025      0.975]\n",
       "------------------------------------------------------------------------------\n",
       "Intercept      6.1950      0.018    352.003      0.000       6.161       6.230\n",
       "gross       3.501e-09   2.18e-10     16.059      0.000    3.07e-09    3.93e-09\n",
       "==============================================================================\n",
       "Omnibus:                      382.413   Durbin-Watson:                   1.775\n",
       "Prob(Omnibus):                  0.000   Jarque-Bera (JB):              557.742\n",
       "Skew:                          -0.659   Prob(JB):                    7.72e-122\n",
       "Kurtosis:                       4.071   Cond. No.                     9.83e+07\n",
       "==============================================================================\n",
       "\n",
       "Warnings:\n",
       "[1] Standard Errors assume that the covariance matrix of the errors is correctly specified.\n",
       "[2] The condition number is large, 9.83e+07. This might indicate that there are\n",
       "strong multicollinearity or other numerical problems.\n",
       "\"\"\""
      ]
     },
     "execution_count": 60,
     "metadata": {},
     "output_type": "execute_result"
    }
   ],
   "source": [
    "print('Creating a multiple regression model where I get the change in scores as a function of  gross')\n",
    "formula = ('score ~ gross')\n",
    "results = smf.ols(formula, data=df).fit()\n",
    "#using thinkstats function instead of results.summary to get the main results and compare RMSEs.\n",
    "def SummarizeResults(results):\n",
    "    for name, param in results.params.items():\n",
    "        pvalue = results.pvalues[name]\n",
    "        print('%s   %0.3g   (%.3g)' % (name, param, pvalue))\n",
    "\n",
    "    try:\n",
    "        print('R^2 %.4g' % results.rsquared)\n",
    "        ys = results.model.endog\n",
    "        print('Std(ys) %.4g' % ys.std())\n",
    "        print('Std(res) %.4g' % results.resid.std())\n",
    "    except AttributeError:\n",
    "        print('R^2 %.4g' % results.prsquared)\n",
    "SummarizeResults(results)\n",
    "results.summary()"
   ]
  },
  {
   "cell_type": "code",
   "execution_count": 61,
   "metadata": {},
   "outputs": [
    {
     "name": "stdout",
     "output_type": "stream",
     "text": [
      "The warning about potential multicollinearity.\n",
      "R-squared for this model is 0.05, which indicates that variable \"gross\" accounts for 5 percent of the variation in the scores\n",
      "The parameters are statistically significant.\n",
      "The difference between the standard deviation of the outcome variable \"score\" and the standard deviation of the residuals is 0.0269, which indicates that knowing the \"gross\" provides some but very little improvement to the predictions\n"
     ]
    }
   ],
   "source": [
    "print(\"The warning about potential multicollinearity.\")\n",
    "print('R-squared for this model is 0.05, which indicates that variable \"gross\" accounts for 5 percent of the variation in the scores')\n",
    "print('The parameters are statistically significant.')\n",
    "print('The difference between the standard deviation of the outcome variable \"score\" and the standard deviation of the residuals is 0.0269, which indicates that knowing the \"gross\" provides some but very little improvement to the predictions')"
   ]
  },
  {
   "cell_type": "code",
   "execution_count": 62,
   "metadata": {},
   "outputs": [
    {
     "name": "stdout",
     "output_type": "stream",
     "text": [
      "Creating a multiple regression model where I get the change in scores as a function of budget\n",
      "Intercept   6.29   (0)\n",
      "budget   1.86e-09   (5.26e-07)\n",
      "R^2 0.005414\n",
      "Std(ys) 1.011\n",
      "Std(res) 1.008\n"
     ]
    },
    {
     "data": {
      "text/html": [
       "<table class=\"simpletable\">\n",
       "<caption>OLS Regression Results</caption>\n",
       "<tr>\n",
       "  <th>Dep. Variable:</th>          <td>score</td>      <th>  R-squared:         </th> <td>   0.005</td> \n",
       "</tr>\n",
       "<tr>\n",
       "  <th>Model:</th>                   <td>OLS</td>       <th>  Adj. R-squared:    </th> <td>   0.005</td> \n",
       "</tr>\n",
       "<tr>\n",
       "  <th>Method:</th>             <td>Least Squares</td>  <th>  F-statistic:       </th> <td>   25.24</td> \n",
       "</tr>\n",
       "<tr>\n",
       "  <th>Date:</th>             <td>Fri, 28 Feb 2020</td> <th>  Prob (F-statistic):</th> <td>5.26e-07</td> \n",
       "</tr>\n",
       "<tr>\n",
       "  <th>Time:</th>                 <td>20:42:47</td>     <th>  Log-Likelihood:    </th> <td> -6619.0</td> \n",
       "</tr>\n",
       "<tr>\n",
       "  <th>No. Observations:</th>      <td>  4638</td>      <th>  AIC:               </th> <td>1.324e+04</td>\n",
       "</tr>\n",
       "<tr>\n",
       "  <th>Df Residuals:</th>          <td>  4636</td>      <th>  BIC:               </th> <td>1.325e+04</td>\n",
       "</tr>\n",
       "<tr>\n",
       "  <th>Df Model:</th>              <td>     1</td>      <th>                     </th>     <td> </td>    \n",
       "</tr>\n",
       "<tr>\n",
       "  <th>Covariance Type:</th>      <td>nonrobust</td>    <th>                     </th>     <td> </td>    \n",
       "</tr>\n",
       "</table>\n",
       "<table class=\"simpletable\">\n",
       "<tr>\n",
       "      <td></td>         <th>coef</th>     <th>std err</th>      <th>t</th>      <th>P>|t|</th>  <th>[0.025</th>    <th>0.975]</th>  \n",
       "</tr>\n",
       "<tr>\n",
       "  <th>Intercept</th> <td>    6.2890</td> <td>    0.020</td> <td>  314.998</td> <td> 0.000</td> <td>    6.250</td> <td>    6.328</td>\n",
       "</tr>\n",
       "<tr>\n",
       "  <th>budget</th>    <td> 1.861e-09</td> <td> 3.71e-10</td> <td>    5.023</td> <td> 0.000</td> <td> 1.13e-09</td> <td> 2.59e-09</td>\n",
       "</tr>\n",
       "</table>\n",
       "<table class=\"simpletable\">\n",
       "<tr>\n",
       "  <th>Omnibus:</th>       <td>378.019</td> <th>  Durbin-Watson:     </th> <td>   1.652</td> \n",
       "</tr>\n",
       "<tr>\n",
       "  <th>Prob(Omnibus):</th> <td> 0.000</td>  <th>  Jarque-Bera (JB):  </th> <td> 551.528</td> \n",
       "</tr>\n",
       "<tr>\n",
       "  <th>Skew:</th>          <td>-0.653</td>  <th>  Prob(JB):          </th> <td>1.73e-120</td>\n",
       "</tr>\n",
       "<tr>\n",
       "  <th>Kurtosis:</th>      <td> 4.071</td>  <th>  Cond. No.          </th> <td>7.27e+07</td> \n",
       "</tr>\n",
       "</table><br/><br/>Warnings:<br/>[1] Standard Errors assume that the covariance matrix of the errors is correctly specified.<br/>[2] The condition number is large, 7.27e+07. This might indicate that there are<br/>strong multicollinearity or other numerical problems."
      ],
      "text/plain": [
       "<class 'statsmodels.iolib.summary.Summary'>\n",
       "\"\"\"\n",
       "                            OLS Regression Results                            \n",
       "==============================================================================\n",
       "Dep. Variable:                  score   R-squared:                       0.005\n",
       "Model:                            OLS   Adj. R-squared:                  0.005\n",
       "Method:                 Least Squares   F-statistic:                     25.24\n",
       "Date:                Fri, 28 Feb 2020   Prob (F-statistic):           5.26e-07\n",
       "Time:                        20:42:47   Log-Likelihood:                -6619.0\n",
       "No. Observations:                4638   AIC:                         1.324e+04\n",
       "Df Residuals:                    4636   BIC:                         1.325e+04\n",
       "Df Model:                           1                                         \n",
       "Covariance Type:            nonrobust                                         \n",
       "==============================================================================\n",
       "                 coef    std err          t      P>|t|      [0.025      0.975]\n",
       "------------------------------------------------------------------------------\n",
       "Intercept      6.2890      0.020    314.998      0.000       6.250       6.328\n",
       "budget      1.861e-09   3.71e-10      5.023      0.000    1.13e-09    2.59e-09\n",
       "==============================================================================\n",
       "Omnibus:                      378.019   Durbin-Watson:                   1.652\n",
       "Prob(Omnibus):                  0.000   Jarque-Bera (JB):              551.528\n",
       "Skew:                          -0.653   Prob(JB):                    1.73e-120\n",
       "Kurtosis:                       4.071   Cond. No.                     7.27e+07\n",
       "==============================================================================\n",
       "\n",
       "Warnings:\n",
       "[1] Standard Errors assume that the covariance matrix of the errors is correctly specified.\n",
       "[2] The condition number is large, 7.27e+07. This might indicate that there are\n",
       "strong multicollinearity or other numerical problems.\n",
       "\"\"\""
      ]
     },
     "execution_count": 62,
     "metadata": {},
     "output_type": "execute_result"
    }
   ],
   "source": [
    "print('Creating a multiple regression model where I get the change in scores as a function of budget')\n",
    "formula = ('score ~ budget')\n",
    "results = smf.ols(formula, data=df).fit()\n",
    "#using thinkstats function instead of results.summary to get the main results and compare RMSEs.\n",
    "def SummarizeResults(results):\n",
    "    for name, param in results.params.items():\n",
    "        pvalue = results.pvalues[name]\n",
    "        print('%s   %0.3g   (%.3g)' % (name, param, pvalue))\n",
    "\n",
    "    try:\n",
    "        print('R^2 %.4g' % results.rsquared)\n",
    "        ys = results.model.endog\n",
    "        print('Std(ys) %.4g' % ys.std())\n",
    "        print('Std(res) %.4g' % results.resid.std())\n",
    "    except AttributeError:\n",
    "        print('R^2 %.4g' % results.prsquared)\n",
    "SummarizeResults(results)\n",
    "results.summary()"
   ]
  },
  {
   "cell_type": "code",
   "execution_count": 63,
   "metadata": {},
   "outputs": [
    {
     "name": "stdout",
     "output_type": "stream",
     "text": [
      "The warning about potential multicollinearity.\n",
      "R-squared for this model is 0.005414, which indicates that variable \"budget\" accounts for 0.5 percent of the variation in the scores\n",
      "The parameters are statistically significant.\n",
      "The difference between the standard deviation of the outcome variable \"score\" and the standard deviation of the residuals is 0.003, which indicates that knowing the \"budget\" provides extremely little improvement to the predictions\n"
     ]
    }
   ],
   "source": [
    "print(\"The warning about potential multicollinearity.\")\n",
    "print('R-squared for this model is 0.005414, which indicates that variable \"budget\" accounts for 0.5 percent of the variation in the scores')\n",
    "print('The parameters are statistically significant.')\n",
    "print('The difference between the standard deviation of the outcome variable \"score\" and the standard deviation of the residuals is 0.003, which indicates that knowing the \"budget\" provides extremely little improvement to the predictions')"
   ]
  },
  {
   "cell_type": "code",
   "execution_count": 64,
   "metadata": {},
   "outputs": [
    {
     "name": "stdout",
     "output_type": "stream",
     "text": [
      "Creating a multiple regression model where I get the change in scores as a function of runtime and votes\n",
      "Intercept   4.4   (0)\n",
      "runtime   0.016   (1.23e-97)\n",
      "votes   2.49e-06   (1.84e-157)\n",
      "R^2 0.292\n",
      "Std(ys) 1.011\n",
      "Std(res) 0.8507\n"
     ]
    },
    {
     "data": {
      "text/html": [
       "<table class=\"simpletable\">\n",
       "<caption>OLS Regression Results</caption>\n",
       "<tr>\n",
       "  <th>Dep. Variable:</th>          <td>score</td>      <th>  R-squared:         </th> <td>   0.292</td> \n",
       "</tr>\n",
       "<tr>\n",
       "  <th>Model:</th>                   <td>OLS</td>       <th>  Adj. R-squared:    </th> <td>   0.292</td> \n",
       "</tr>\n",
       "<tr>\n",
       "  <th>Method:</th>             <td>Least Squares</td>  <th>  F-statistic:       </th> <td>   955.7</td> \n",
       "</tr>\n",
       "<tr>\n",
       "  <th>Date:</th>             <td>Fri, 28 Feb 2020</td> <th>  Prob (F-statistic):</th>  <td>  0.00</td>  \n",
       "</tr>\n",
       "<tr>\n",
       "  <th>Time:</th>                 <td>20:42:54</td>     <th>  Log-Likelihood:    </th> <td> -5830.9</td> \n",
       "</tr>\n",
       "<tr>\n",
       "  <th>No. Observations:</th>      <td>  4638</td>      <th>  AIC:               </th> <td>1.167e+04</td>\n",
       "</tr>\n",
       "<tr>\n",
       "  <th>Df Residuals:</th>          <td>  4635</td>      <th>  BIC:               </th> <td>1.169e+04</td>\n",
       "</tr>\n",
       "<tr>\n",
       "  <th>Df Model:</th>              <td>     2</td>      <th>                     </th>     <td> </td>    \n",
       "</tr>\n",
       "<tr>\n",
       "  <th>Covariance Type:</th>      <td>nonrobust</td>    <th>                     </th>     <td> </td>    \n",
       "</tr>\n",
       "</table>\n",
       "<table class=\"simpletable\">\n",
       "<tr>\n",
       "      <td></td>         <th>coef</th>     <th>std err</th>      <th>t</th>      <th>P>|t|</th>  <th>[0.025</th>    <th>0.975]</th>  \n",
       "</tr>\n",
       "<tr>\n",
       "  <th>Intercept</th> <td>    4.4004</td> <td>    0.078</td> <td>   56.207</td> <td> 0.000</td> <td>    4.247</td> <td>    4.554</td>\n",
       "</tr>\n",
       "<tr>\n",
       "  <th>runtime</th>   <td>    0.0160</td> <td>    0.001</td> <td>   21.479</td> <td> 0.000</td> <td>    0.015</td> <td>    0.017</td>\n",
       "</tr>\n",
       "<tr>\n",
       "  <th>votes</th>     <td> 2.492e-06</td> <td> 8.97e-08</td> <td>   27.801</td> <td> 0.000</td> <td> 2.32e-06</td> <td> 2.67e-06</td>\n",
       "</tr>\n",
       "</table>\n",
       "<table class=\"simpletable\">\n",
       "<tr>\n",
       "  <th>Omnibus:</th>       <td>617.939</td> <th>  Durbin-Watson:     </th> <td>   1.945</td> \n",
       "</tr>\n",
       "<tr>\n",
       "  <th>Prob(Omnibus):</th> <td> 0.000</td>  <th>  Jarque-Bera (JB):  </th> <td>1142.438</td> \n",
       "</tr>\n",
       "<tr>\n",
       "  <th>Skew:</th>          <td>-0.857</td>  <th>  Prob(JB):          </th> <td>8.37e-249</td>\n",
       "</tr>\n",
       "<tr>\n",
       "  <th>Kurtosis:</th>      <td> 4.725</td>  <th>  Cond. No.          </th> <td>1.11e+06</td> \n",
       "</tr>\n",
       "</table><br/><br/>Warnings:<br/>[1] Standard Errors assume that the covariance matrix of the errors is correctly specified.<br/>[2] The condition number is large, 1.11e+06. This might indicate that there are<br/>strong multicollinearity or other numerical problems."
      ],
      "text/plain": [
       "<class 'statsmodels.iolib.summary.Summary'>\n",
       "\"\"\"\n",
       "                            OLS Regression Results                            \n",
       "==============================================================================\n",
       "Dep. Variable:                  score   R-squared:                       0.292\n",
       "Model:                            OLS   Adj. R-squared:                  0.292\n",
       "Method:                 Least Squares   F-statistic:                     955.7\n",
       "Date:                Fri, 28 Feb 2020   Prob (F-statistic):               0.00\n",
       "Time:                        20:42:54   Log-Likelihood:                -5830.9\n",
       "No. Observations:                4638   AIC:                         1.167e+04\n",
       "Df Residuals:                    4635   BIC:                         1.169e+04\n",
       "Df Model:                           2                                         \n",
       "Covariance Type:            nonrobust                                         \n",
       "==============================================================================\n",
       "                 coef    std err          t      P>|t|      [0.025      0.975]\n",
       "------------------------------------------------------------------------------\n",
       "Intercept      4.4004      0.078     56.207      0.000       4.247       4.554\n",
       "runtime        0.0160      0.001     21.479      0.000       0.015       0.017\n",
       "votes       2.492e-06   8.97e-08     27.801      0.000    2.32e-06    2.67e-06\n",
       "==============================================================================\n",
       "Omnibus:                      617.939   Durbin-Watson:                   1.945\n",
       "Prob(Omnibus):                  0.000   Jarque-Bera (JB):             1142.438\n",
       "Skew:                          -0.857   Prob(JB):                    8.37e-249\n",
       "Kurtosis:                       4.725   Cond. No.                     1.11e+06\n",
       "==============================================================================\n",
       "\n",
       "Warnings:\n",
       "[1] Standard Errors assume that the covariance matrix of the errors is correctly specified.\n",
       "[2] The condition number is large, 1.11e+06. This might indicate that there are\n",
       "strong multicollinearity or other numerical problems.\n",
       "\"\"\""
      ]
     },
     "execution_count": 64,
     "metadata": {},
     "output_type": "execute_result"
    }
   ],
   "source": [
    "print('Creating a multiple regression model where I get the change in scores as a function of runtime and votes')\n",
    "import statsmodels.formula.api as smf\n",
    "formula = 'score~runtime+votes'\n",
    "model = smf.ols(formula, data = df)\n",
    "results = model.fit()\n",
    "def SummarizeResults(results):\n",
    "    for name, param in results.params.items():\n",
    "        pvalue = results.pvalues[name]\n",
    "        print('%s   %0.3g   (%.3g)' % (name, param, pvalue))\n",
    "\n",
    "    try:\n",
    "        print('R^2 %.4g' % results.rsquared)\n",
    "        ys = results.model.endog\n",
    "        print('Std(ys) %.4g' % ys.std())\n",
    "        print('Std(res) %.4g' % results.resid.std())\n",
    "    except AttributeError:\n",
    "        print('R^2 %.4g' % results.prsquared)\n",
    "SummarizeResults(results)\n",
    "results.summary() "
   ]
  },
  {
   "cell_type": "code",
   "execution_count": 65,
   "metadata": {},
   "outputs": [
    {
     "name": "stdout",
     "output_type": "stream",
     "text": [
      "The warning about potential multicollinearity.\n",
      "R-squared for this model is 0.292, which indicates that variables runtime and votes account for 29.2 percent of the variation in the scores\n",
      "The parameters are statistically significant.\n",
      "The difference between the standard deviation of the outcome variable \"score\" and the standard deviation of the residuals is 0.1603, which indicates that knowing the runtime and votes provides improvement to the prediction since it is greater than that of improvement from just knowing runtime, or votes, or gross, or budget.\n"
     ]
    }
   ],
   "source": [
    "print(\"The warning about potential multicollinearity.\")\n",
    "print('R-squared for this model is 0.292, which indicates that variables runtime and votes account for 29.2 percent of the variation in the scores')\n",
    "print('The parameters are statistically significant.')\n",
    "print('The difference between the standard deviation of the outcome variable \"score\" and the standard deviation of the residuals is 0.1603, which indicates that knowing the runtime and votes provides improvement to the prediction since it is greater than that of improvement from just knowing runtime, or votes, or gross, or budget.')"
   ]
  },
  {
   "cell_type": "code",
   "execution_count": 66,
   "metadata": {},
   "outputs": [
    {
     "name": "stdout",
     "output_type": "stream",
     "text": [
      "Creating a multiple regression model where I get the change in scores as a function of runtime, votes and gross\n",
      "Intercept   4.42   (0)\n",
      "runtime   0.0162   (3.7e-101)\n",
      "votes   3.07e-06   (1.39e-152)\n",
      "gross   -2.06e-09   (4.15e-17)\n",
      "R^2 0.3027\n",
      "Std(ys) 1.011\n",
      "Std(res) 0.8443\n"
     ]
    },
    {
     "data": {
      "text/html": [
       "<table class=\"simpletable\">\n",
       "<caption>OLS Regression Results</caption>\n",
       "<tr>\n",
       "  <th>Dep. Variable:</th>          <td>score</td>      <th>  R-squared:         </th> <td>   0.303</td> \n",
       "</tr>\n",
       "<tr>\n",
       "  <th>Model:</th>                   <td>OLS</td>       <th>  Adj. R-squared:    </th> <td>   0.302</td> \n",
       "</tr>\n",
       "<tr>\n",
       "  <th>Method:</th>             <td>Least Squares</td>  <th>  F-statistic:       </th> <td>   670.6</td> \n",
       "</tr>\n",
       "<tr>\n",
       "  <th>Date:</th>             <td>Fri, 28 Feb 2020</td> <th>  Prob (F-statistic):</th>  <td>  0.00</td>  \n",
       "</tr>\n",
       "<tr>\n",
       "  <th>Time:</th>                 <td>20:43:01</td>     <th>  Log-Likelihood:    </th> <td> -5795.5</td> \n",
       "</tr>\n",
       "<tr>\n",
       "  <th>No. Observations:</th>      <td>  4638</td>      <th>  AIC:               </th> <td>1.160e+04</td>\n",
       "</tr>\n",
       "<tr>\n",
       "  <th>Df Residuals:</th>          <td>  4634</td>      <th>  BIC:               </th> <td>1.162e+04</td>\n",
       "</tr>\n",
       "<tr>\n",
       "  <th>Df Model:</th>              <td>     3</td>      <th>                     </th>     <td> </td>    \n",
       "</tr>\n",
       "<tr>\n",
       "  <th>Covariance Type:</th>      <td>nonrobust</td>    <th>                     </th>     <td> </td>    \n",
       "</tr>\n",
       "</table>\n",
       "<table class=\"simpletable\">\n",
       "<tr>\n",
       "      <td></td>         <th>coef</th>     <th>std err</th>      <th>t</th>      <th>P>|t|</th>  <th>[0.025</th>    <th>0.975]</th>  \n",
       "</tr>\n",
       "<tr>\n",
       "  <th>Intercept</th> <td>    4.4193</td> <td>    0.078</td> <td>   56.852</td> <td> 0.000</td> <td>    4.267</td> <td>    4.572</td>\n",
       "</tr>\n",
       "<tr>\n",
       "  <th>runtime</th>   <td>    0.0162</td> <td>    0.001</td> <td>   21.890</td> <td> 0.000</td> <td>    0.015</td> <td>    0.018</td>\n",
       "</tr>\n",
       "<tr>\n",
       "  <th>votes</th>     <td> 3.073e-06</td> <td> 1.12e-07</td> <td>   27.328</td> <td> 0.000</td> <td> 2.85e-06</td> <td> 3.29e-06</td>\n",
       "</tr>\n",
       "<tr>\n",
       "  <th>gross</th>     <td>-2.063e-09</td> <td> 2.44e-10</td> <td>   -8.441</td> <td> 0.000</td> <td>-2.54e-09</td> <td>-1.58e-09</td>\n",
       "</tr>\n",
       "</table>\n",
       "<table class=\"simpletable\">\n",
       "<tr>\n",
       "  <th>Omnibus:</th>       <td>691.708</td> <th>  Durbin-Watson:     </th> <td>   1.927</td> \n",
       "</tr>\n",
       "<tr>\n",
       "  <th>Prob(Omnibus):</th> <td> 0.000</td>  <th>  Jarque-Bera (JB):  </th> <td>1371.195</td> \n",
       "</tr>\n",
       "<tr>\n",
       "  <th>Skew:</th>          <td>-0.916</td>  <th>  Prob(JB):          </th> <td>1.77e-298</td>\n",
       "</tr>\n",
       "<tr>\n",
       "  <th>Kurtosis:</th>      <td> 4.933</td>  <th>  Cond. No.          </th> <td>5.06e+08</td> \n",
       "</tr>\n",
       "</table><br/><br/>Warnings:<br/>[1] Standard Errors assume that the covariance matrix of the errors is correctly specified.<br/>[2] The condition number is large, 5.06e+08. This might indicate that there are<br/>strong multicollinearity or other numerical problems."
      ],
      "text/plain": [
       "<class 'statsmodels.iolib.summary.Summary'>\n",
       "\"\"\"\n",
       "                            OLS Regression Results                            \n",
       "==============================================================================\n",
       "Dep. Variable:                  score   R-squared:                       0.303\n",
       "Model:                            OLS   Adj. R-squared:                  0.302\n",
       "Method:                 Least Squares   F-statistic:                     670.6\n",
       "Date:                Fri, 28 Feb 2020   Prob (F-statistic):               0.00\n",
       "Time:                        20:43:01   Log-Likelihood:                -5795.5\n",
       "No. Observations:                4638   AIC:                         1.160e+04\n",
       "Df Residuals:                    4634   BIC:                         1.162e+04\n",
       "Df Model:                           3                                         \n",
       "Covariance Type:            nonrobust                                         \n",
       "==============================================================================\n",
       "                 coef    std err          t      P>|t|      [0.025      0.975]\n",
       "------------------------------------------------------------------------------\n",
       "Intercept      4.4193      0.078     56.852      0.000       4.267       4.572\n",
       "runtime        0.0162      0.001     21.890      0.000       0.015       0.018\n",
       "votes       3.073e-06   1.12e-07     27.328      0.000    2.85e-06    3.29e-06\n",
       "gross      -2.063e-09   2.44e-10     -8.441      0.000   -2.54e-09   -1.58e-09\n",
       "==============================================================================\n",
       "Omnibus:                      691.708   Durbin-Watson:                   1.927\n",
       "Prob(Omnibus):                  0.000   Jarque-Bera (JB):             1371.195\n",
       "Skew:                          -0.916   Prob(JB):                    1.77e-298\n",
       "Kurtosis:                       4.933   Cond. No.                     5.06e+08\n",
       "==============================================================================\n",
       "\n",
       "Warnings:\n",
       "[1] Standard Errors assume that the covariance matrix of the errors is correctly specified.\n",
       "[2] The condition number is large, 5.06e+08. This might indicate that there are\n",
       "strong multicollinearity or other numerical problems.\n",
       "\"\"\""
      ]
     },
     "execution_count": 66,
     "metadata": {},
     "output_type": "execute_result"
    }
   ],
   "source": [
    "print('Creating a multiple regression model where I get the change in scores as a function of runtime, votes and gross')\n",
    "formula = ('score ~ runtime+votes+gross')\n",
    "results = smf.ols(formula, data=df).fit()\n",
    "#using thinkstats function instead of results.summary to get the main results and compare RMSEs.\n",
    "def SummarizeResults(results):\n",
    "    for name, param in results.params.items():\n",
    "        pvalue = results.pvalues[name]\n",
    "        print('%s   %0.3g   (%.3g)' % (name, param, pvalue))\n",
    "\n",
    "    try:\n",
    "        print('R^2 %.4g' % results.rsquared)\n",
    "        ys = results.model.endog\n",
    "        print('Std(ys) %.4g' % ys.std())\n",
    "        print('Std(res) %.4g' % results.resid.std())\n",
    "    except AttributeError:\n",
    "        print('R^2 %.4g' % results.prsquared)\n",
    "SummarizeResults(results)\n",
    "results.summary()"
   ]
  },
  {
   "cell_type": "code",
   "execution_count": 67,
   "metadata": {},
   "outputs": [
    {
     "name": "stdout",
     "output_type": "stream",
     "text": [
      "R-squared for this model is 0.3027, which indicates that variables runtime, votes and gross account for 30.3 percent of the variation in the scores\n",
      "The parameters are statistically significant.\n",
      "The difference between the standard deviation of the outcome variable \"score\" and the standard deviation of the residuals is 0.1667, which indicates that knowing the runtime, votes and gross provides improvement to the predictions compared to the two previous models\n",
      "The warning about potential multicollinearity. One of the coefficients changed the sign - unstable behavior.\n"
     ]
    }
   ],
   "source": [
    "print('R-squared for this model is 0.3027, which indicates that variables runtime, votes and gross account for 30.3 percent of the variation in the scores')\n",
    "print('The parameters are statistically significant.')\n",
    "print('The difference between the standard deviation of the outcome variable \"score\" and the standard deviation of the residuals is 0.1667, which indicates that knowing the runtime, votes and gross provides improvement to the predictions compared to the two previous models')\n",
    "print(\"The warning about potential multicollinearity. One of the coefficients changed the sign - unstable behavior.\")\n"
   ]
  },
  {
   "cell_type": "code",
   "execution_count": 68,
   "metadata": {},
   "outputs": [
    {
     "name": "stdout",
     "output_type": "stream",
     "text": [
      "Intercept   4.31   (0)\n",
      "runtime   0.0183   (9.62e-129)\n",
      "votes   3.11e-06   (5.47e-216)\n",
      "budget   -5.97e-09   (6.1e-65)\n",
      "R^2 0.3349\n",
      "Std(ys) 1.011\n",
      "Std(res) 0.8246\n"
     ]
    },
    {
     "data": {
      "text/html": [
       "<table class=\"simpletable\">\n",
       "<caption>OLS Regression Results</caption>\n",
       "<tr>\n",
       "  <th>Dep. Variable:</th>          <td>score</td>      <th>  R-squared:         </th> <td>   0.335</td> \n",
       "</tr>\n",
       "<tr>\n",
       "  <th>Model:</th>                   <td>OLS</td>       <th>  Adj. R-squared:    </th> <td>   0.334</td> \n",
       "</tr>\n",
       "<tr>\n",
       "  <th>Method:</th>             <td>Least Squares</td>  <th>  F-statistic:       </th> <td>   777.7</td> \n",
       "</tr>\n",
       "<tr>\n",
       "  <th>Date:</th>             <td>Fri, 28 Feb 2020</td> <th>  Prob (F-statistic):</th>  <td>  0.00</td>  \n",
       "</tr>\n",
       "<tr>\n",
       "  <th>Time:</th>                 <td>20:43:29</td>     <th>  Log-Likelihood:    </th> <td> -5685.9</td> \n",
       "</tr>\n",
       "<tr>\n",
       "  <th>No. Observations:</th>      <td>  4638</td>      <th>  AIC:               </th> <td>1.138e+04</td>\n",
       "</tr>\n",
       "<tr>\n",
       "  <th>Df Residuals:</th>          <td>  4634</td>      <th>  BIC:               </th> <td>1.141e+04</td>\n",
       "</tr>\n",
       "<tr>\n",
       "  <th>Df Model:</th>              <td>     3</td>      <th>                     </th>     <td> </td>    \n",
       "</tr>\n",
       "<tr>\n",
       "  <th>Covariance Type:</th>      <td>nonrobust</td>    <th>                     </th>     <td> </td>    \n",
       "</tr>\n",
       "</table>\n",
       "<table class=\"simpletable\">\n",
       "<tr>\n",
       "      <td></td>         <th>coef</th>     <th>std err</th>      <th>t</th>      <th>P>|t|</th>  <th>[0.025</th>    <th>0.975]</th>  \n",
       "</tr>\n",
       "<tr>\n",
       "  <th>Intercept</th> <td>    4.3102</td> <td>    0.076</td> <td>   56.663</td> <td> 0.000</td> <td>    4.161</td> <td>    4.459</td>\n",
       "</tr>\n",
       "<tr>\n",
       "  <th>runtime</th>   <td>    0.0183</td> <td>    0.001</td> <td>   24.920</td> <td> 0.000</td> <td>    0.017</td> <td>    0.020</td>\n",
       "</tr>\n",
       "<tr>\n",
       "  <th>votes</th>     <td> 3.114e-06</td> <td> 9.41e-08</td> <td>   33.111</td> <td> 0.000</td> <td> 2.93e-06</td> <td>  3.3e-06</td>\n",
       "</tr>\n",
       "<tr>\n",
       "  <th>budget</th>    <td> -5.97e-09</td> <td> 3.45e-10</td> <td>  -17.288</td> <td> 0.000</td> <td>-6.65e-09</td> <td>-5.29e-09</td>\n",
       "</tr>\n",
       "</table>\n",
       "<table class=\"simpletable\">\n",
       "<tr>\n",
       "  <th>Omnibus:</th>       <td>782.742</td> <th>  Durbin-Watson:     </th> <td>   1.912</td>\n",
       "</tr>\n",
       "<tr>\n",
       "  <th>Prob(Omnibus):</th> <td> 0.000</td>  <th>  Jarque-Bera (JB):  </th> <td>1736.799</td>\n",
       "</tr>\n",
       "<tr>\n",
       "  <th>Skew:</th>          <td>-0.977</td>  <th>  Prob(JB):          </th> <td>    0.00</td>\n",
       "</tr>\n",
       "<tr>\n",
       "  <th>Kurtosis:</th>      <td> 5.273</td>  <th>  Cond. No.          </th> <td>3.38e+08</td>\n",
       "</tr>\n",
       "</table><br/><br/>Warnings:<br/>[1] Standard Errors assume that the covariance matrix of the errors is correctly specified.<br/>[2] The condition number is large, 3.38e+08. This might indicate that there are<br/>strong multicollinearity or other numerical problems."
      ],
      "text/plain": [
       "<class 'statsmodels.iolib.summary.Summary'>\n",
       "\"\"\"\n",
       "                            OLS Regression Results                            \n",
       "==============================================================================\n",
       "Dep. Variable:                  score   R-squared:                       0.335\n",
       "Model:                            OLS   Adj. R-squared:                  0.334\n",
       "Method:                 Least Squares   F-statistic:                     777.7\n",
       "Date:                Fri, 28 Feb 2020   Prob (F-statistic):               0.00\n",
       "Time:                        20:43:29   Log-Likelihood:                -5685.9\n",
       "No. Observations:                4638   AIC:                         1.138e+04\n",
       "Df Residuals:                    4634   BIC:                         1.141e+04\n",
       "Df Model:                           3                                         \n",
       "Covariance Type:            nonrobust                                         \n",
       "==============================================================================\n",
       "                 coef    std err          t      P>|t|      [0.025      0.975]\n",
       "------------------------------------------------------------------------------\n",
       "Intercept      4.3102      0.076     56.663      0.000       4.161       4.459\n",
       "runtime        0.0183      0.001     24.920      0.000       0.017       0.020\n",
       "votes       3.114e-06   9.41e-08     33.111      0.000    2.93e-06     3.3e-06\n",
       "budget      -5.97e-09   3.45e-10    -17.288      0.000   -6.65e-09   -5.29e-09\n",
       "==============================================================================\n",
       "Omnibus:                      782.742   Durbin-Watson:                   1.912\n",
       "Prob(Omnibus):                  0.000   Jarque-Bera (JB):             1736.799\n",
       "Skew:                          -0.977   Prob(JB):                         0.00\n",
       "Kurtosis:                       5.273   Cond. No.                     3.38e+08\n",
       "==============================================================================\n",
       "\n",
       "Warnings:\n",
       "[1] Standard Errors assume that the covariance matrix of the errors is correctly specified.\n",
       "[2] The condition number is large, 3.38e+08. This might indicate that there are\n",
       "strong multicollinearity or other numerical problems.\n",
       "\"\"\""
      ]
     },
     "execution_count": 68,
     "metadata": {},
     "output_type": "execute_result"
    }
   ],
   "source": [
    "formula = ('score ~ runtime +votes+budget')\n",
    "results = smf.ols(formula, data=df).fit()\n",
    "#using thinkstats function instead of results.summary to get the main results and compare RMSEs.\n",
    "def SummarizeResults(results):\n",
    "    for name, param in results.params.items():\n",
    "        pvalue = results.pvalues[name]\n",
    "        print('%s   %0.3g   (%.3g)' % (name, param, pvalue))\n",
    "\n",
    "    try:\n",
    "        print('R^2 %.4g' % results.rsquared)\n",
    "        ys = results.model.endog\n",
    "        print('Std(ys) %.4g' % ys.std())\n",
    "        print('Std(res) %.4g' % results.resid.std())\n",
    "    except AttributeError:\n",
    "        print('R^2 %.4g' % results.prsquared)\n",
    "SummarizeResults(results)\n",
    "results.summary()"
   ]
  },
  {
   "cell_type": "code",
   "execution_count": 69,
   "metadata": {},
   "outputs": [
    {
     "name": "stdout",
     "output_type": "stream",
     "text": [
      "R-squared for this model is 0.3349, which indicates that variables runtime, votes and budget account for 33.5 percent of the variation in the scores\n",
      "The parameters are statistically significant.\n",
      "The difference between the standard deviation of the outcome variable \"score\" and the standard deviation of the residuals is 0.1864, which indicates that knowing the runtime, votes and budget provides improvement to the predictions compared to the two previous models\n",
      "The warning about potential multicollinearity. One of the coefficients changed the sign - unstable behavior.\n"
     ]
    }
   ],
   "source": [
    "print('R-squared for this model is 0.3349, which indicates that variables runtime, votes and budget account for 33.5 percent of the variation in the scores')\n",
    "print('The parameters are statistically significant.')\n",
    "print('The difference between the standard deviation of the outcome variable \"score\" and the standard deviation of the residuals is 0.1864, which indicates that knowing the runtime, votes and budget provides improvement to the predictions compared to the two previous models')\n",
    "print(\"The warning about potential multicollinearity. One of the coefficients changed the sign - unstable behavior.\")\n"
   ]
  },
  {
   "cell_type": "code",
   "execution_count": 70,
   "metadata": {},
   "outputs": [
    {
     "name": "stdout",
     "output_type": "stream",
     "text": [
      "Intercept   4.3   (0)\n",
      "runtime   0.0184   (3.6e-129)\n",
      "budget   -6.35e-09   (4.65e-50)\n",
      "votes   3.02e-06   (9.84e-155)\n",
      "gross   4.59e-10   (0.115)\n",
      "R^2 0.3352\n",
      "Std(ys) 1.011\n",
      "Std(res) 0.8244\n"
     ]
    },
    {
     "data": {
      "text/html": [
       "<table class=\"simpletable\">\n",
       "<caption>OLS Regression Results</caption>\n",
       "<tr>\n",
       "  <th>Dep. Variable:</th>          <td>score</td>      <th>  R-squared:         </th> <td>   0.335</td> \n",
       "</tr>\n",
       "<tr>\n",
       "  <th>Model:</th>                   <td>OLS</td>       <th>  Adj. R-squared:    </th> <td>   0.335</td> \n",
       "</tr>\n",
       "<tr>\n",
       "  <th>Method:</th>             <td>Least Squares</td>  <th>  F-statistic:       </th> <td>   584.1</td> \n",
       "</tr>\n",
       "<tr>\n",
       "  <th>Date:</th>             <td>Fri, 28 Feb 2020</td> <th>  Prob (F-statistic):</th>  <td>  0.00</td>  \n",
       "</tr>\n",
       "<tr>\n",
       "  <th>Time:</th>                 <td>20:43:46</td>     <th>  Log-Likelihood:    </th> <td> -5684.7</td> \n",
       "</tr>\n",
       "<tr>\n",
       "  <th>No. Observations:</th>      <td>  4638</td>      <th>  AIC:               </th> <td>1.138e+04</td>\n",
       "</tr>\n",
       "<tr>\n",
       "  <th>Df Residuals:</th>          <td>  4633</td>      <th>  BIC:               </th> <td>1.141e+04</td>\n",
       "</tr>\n",
       "<tr>\n",
       "  <th>Df Model:</th>              <td>     4</td>      <th>                     </th>     <td> </td>    \n",
       "</tr>\n",
       "<tr>\n",
       "  <th>Covariance Type:</th>      <td>nonrobust</td>    <th>                     </th>     <td> </td>    \n",
       "</tr>\n",
       "</table>\n",
       "<table class=\"simpletable\">\n",
       "<tr>\n",
       "      <td></td>         <th>coef</th>     <th>std err</th>      <th>t</th>      <th>P>|t|</th>  <th>[0.025</th>    <th>0.975]</th>  \n",
       "</tr>\n",
       "<tr>\n",
       "  <th>Intercept</th> <td>    4.3002</td> <td>    0.076</td> <td>   56.346</td> <td> 0.000</td> <td>    4.151</td> <td>    4.450</td>\n",
       "</tr>\n",
       "<tr>\n",
       "  <th>runtime</th>   <td>    0.0184</td> <td>    0.001</td> <td>   24.965</td> <td> 0.000</td> <td>    0.017</td> <td>    0.020</td>\n",
       "</tr>\n",
       "<tr>\n",
       "  <th>budget</th>    <td>-6.352e-09</td> <td> 4.22e-10</td> <td>  -15.057</td> <td> 0.000</td> <td>-7.18e-09</td> <td>-5.52e-09</td>\n",
       "</tr>\n",
       "<tr>\n",
       "  <th>votes</th>     <td> 3.025e-06</td> <td>  1.1e-07</td> <td>   27.538</td> <td> 0.000</td> <td> 2.81e-06</td> <td> 3.24e-06</td>\n",
       "</tr>\n",
       "<tr>\n",
       "  <th>gross</th>     <td> 4.592e-10</td> <td> 2.92e-10</td> <td>    1.575</td> <td> 0.115</td> <td>-1.12e-10</td> <td> 1.03e-09</td>\n",
       "</tr>\n",
       "</table>\n",
       "<table class=\"simpletable\">\n",
       "<tr>\n",
       "  <th>Omnibus:</th>       <td>775.174</td> <th>  Durbin-Watson:     </th> <td>   1.914</td>\n",
       "</tr>\n",
       "<tr>\n",
       "  <th>Prob(Omnibus):</th> <td> 0.000</td>  <th>  Jarque-Bera (JB):  </th> <td>1707.612</td>\n",
       "</tr>\n",
       "<tr>\n",
       "  <th>Skew:</th>          <td>-0.972</td>  <th>  Prob(JB):          </th> <td>    0.00</td>\n",
       "</tr>\n",
       "<tr>\n",
       "  <th>Kurtosis:</th>      <td> 5.249</td>  <th>  Cond. No.          </th> <td>5.85e+08</td>\n",
       "</tr>\n",
       "</table><br/><br/>Warnings:<br/>[1] Standard Errors assume that the covariance matrix of the errors is correctly specified.<br/>[2] The condition number is large, 5.85e+08. This might indicate that there are<br/>strong multicollinearity or other numerical problems."
      ],
      "text/plain": [
       "<class 'statsmodels.iolib.summary.Summary'>\n",
       "\"\"\"\n",
       "                            OLS Regression Results                            \n",
       "==============================================================================\n",
       "Dep. Variable:                  score   R-squared:                       0.335\n",
       "Model:                            OLS   Adj. R-squared:                  0.335\n",
       "Method:                 Least Squares   F-statistic:                     584.1\n",
       "Date:                Fri, 28 Feb 2020   Prob (F-statistic):               0.00\n",
       "Time:                        20:43:46   Log-Likelihood:                -5684.7\n",
       "No. Observations:                4638   AIC:                         1.138e+04\n",
       "Df Residuals:                    4633   BIC:                         1.141e+04\n",
       "Df Model:                           4                                         \n",
       "Covariance Type:            nonrobust                                         \n",
       "==============================================================================\n",
       "                 coef    std err          t      P>|t|      [0.025      0.975]\n",
       "------------------------------------------------------------------------------\n",
       "Intercept      4.3002      0.076     56.346      0.000       4.151       4.450\n",
       "runtime        0.0184      0.001     24.965      0.000       0.017       0.020\n",
       "budget     -6.352e-09   4.22e-10    -15.057      0.000   -7.18e-09   -5.52e-09\n",
       "votes       3.025e-06    1.1e-07     27.538      0.000    2.81e-06    3.24e-06\n",
       "gross       4.592e-10   2.92e-10      1.575      0.115   -1.12e-10    1.03e-09\n",
       "==============================================================================\n",
       "Omnibus:                      775.174   Durbin-Watson:                   1.914\n",
       "Prob(Omnibus):                  0.000   Jarque-Bera (JB):             1707.612\n",
       "Skew:                          -0.972   Prob(JB):                         0.00\n",
       "Kurtosis:                       5.249   Cond. No.                     5.85e+08\n",
       "==============================================================================\n",
       "\n",
       "Warnings:\n",
       "[1] Standard Errors assume that the covariance matrix of the errors is correctly specified.\n",
       "[2] The condition number is large, 5.85e+08. This might indicate that there are\n",
       "strong multicollinearity or other numerical problems.\n",
       "\"\"\""
      ]
     },
     "execution_count": 70,
     "metadata": {},
     "output_type": "execute_result"
    }
   ],
   "source": [
    "formula = 'score ~ runtime+budget+votes+gross'\n",
    "results = smf.ols(formula, data=df).fit()\n",
    "SummarizeResults(results)\n",
    "results.summary()"
   ]
  },
  {
   "cell_type": "code",
   "execution_count": 71,
   "metadata": {},
   "outputs": [
    {
     "name": "stdout",
     "output_type": "stream",
     "text": [
      "The warning about potential multicollinearity. One of the coefficients changed the sign - unstable behavior.\n",
      "R-squared for this model is 0.335, which indicates that variables runtime, budget, votes and gross account for 33.5 percent of the variation in the scores\n",
      "The parameters are statistically significant.\n",
      "The difference between the standard deviation of the outcome variable \"score\" and the standard deviation of the residuals is 0.1866, which indicates that knowing the runtime, budget, votes and gross provides improvement to the predictions\n"
     ]
    }
   ],
   "source": [
    "print(\"The warning about potential multicollinearity. One of the coefficients changed the sign - unstable behavior.\")\n",
    "print('R-squared for this model is 0.335, which indicates that variables runtime, budget, votes and gross account for 33.5 percent of the variation in the scores')\n",
    "print('The parameters are statistically significant.')\n",
    "print('The difference between the standard deviation of the outcome variable \"score\" and the standard deviation of the residuals is 0.1866, which indicates that knowing the runtime, budget, votes and gross provides improvement to the predictions')"
   ]
  },
  {
   "cell_type": "code",
   "execution_count": 72,
   "metadata": {},
   "outputs": [
    {
     "name": "stdout",
     "output_type": "stream",
     "text": [
      "Intercept   0.000548   (0)\n",
      "runtime   0.0592   (0)\n",
      "budget   -1.01e-08   (1.28e-21)\n",
      "votes   1.61e-06   (1.31e-30)\n",
      "gross   1.8e-09   (1.99e-06)\n",
      "budget2   1.4e-17   (0.014)\n",
      "R^2 -0.1223\n",
      "Std(ys) 1.011\n",
      "Std(res) 1.068\n"
     ]
    },
    {
     "data": {
      "text/html": [
       "<table class=\"simpletable\">\n",
       "<caption>OLS Regression Results</caption>\n",
       "<tr>\n",
       "  <th>Dep. Variable:</th>          <td>score</td>      <th>  R-squared:         </th> <td>  -0.122</td> \n",
       "</tr>\n",
       "<tr>\n",
       "  <th>Model:</th>                   <td>OLS</td>       <th>  Adj. R-squared:    </th> <td>  -0.123</td> \n",
       "</tr>\n",
       "<tr>\n",
       "  <th>Method:</th>             <td>Least Squares</td>  <th>  F-statistic:       </th> <td>  -126.3</td> \n",
       "</tr>\n",
       "<tr>\n",
       "  <th>Date:</th>             <td>Fri, 28 Feb 2020</td> <th>  Prob (F-statistic):</th>  <td>  1.00</td>  \n",
       "</tr>\n",
       "<tr>\n",
       "  <th>Time:</th>                 <td>20:44:02</td>     <th>  Log-Likelihood:    </th> <td> -6899.2</td> \n",
       "</tr>\n",
       "<tr>\n",
       "  <th>No. Observations:</th>      <td>  4638</td>      <th>  AIC:               </th> <td>1.381e+04</td>\n",
       "</tr>\n",
       "<tr>\n",
       "  <th>Df Residuals:</th>          <td>  4633</td>      <th>  BIC:               </th> <td>1.384e+04</td>\n",
       "</tr>\n",
       "<tr>\n",
       "  <th>Df Model:</th>              <td>     4</td>      <th>                     </th>     <td> </td>    \n",
       "</tr>\n",
       "<tr>\n",
       "  <th>Covariance Type:</th>      <td>nonrobust</td>    <th>                     </th>     <td> </td>    \n",
       "</tr>\n",
       "</table>\n",
       "<table class=\"simpletable\">\n",
       "<tr>\n",
       "      <td></td>         <th>coef</th>     <th>std err</th>      <th>t</th>      <th>P>|t|</th>  <th>[0.025</th>    <th>0.975]</th>  \n",
       "</tr>\n",
       "<tr>\n",
       "  <th>Intercept</th> <td>    0.0005</td> <td> 2.45e-06</td> <td>  223.311</td> <td> 0.000</td> <td>    0.001</td> <td>    0.001</td>\n",
       "</tr>\n",
       "<tr>\n",
       "  <th>runtime</th>   <td>    0.0592</td> <td>    0.000</td> <td>  223.311</td> <td> 0.000</td> <td>    0.059</td> <td>    0.060</td>\n",
       "</tr>\n",
       "<tr>\n",
       "  <th>budget</th>    <td>-1.014e-08</td> <td> 1.06e-09</td> <td>   -9.599</td> <td> 0.000</td> <td>-1.22e-08</td> <td>-8.07e-09</td>\n",
       "</tr>\n",
       "<tr>\n",
       "  <th>votes</th>     <td> 1.612e-06</td> <td> 1.39e-07</td> <td>   11.584</td> <td> 0.000</td> <td> 1.34e-06</td> <td> 1.89e-06</td>\n",
       "</tr>\n",
       "<tr>\n",
       "  <th>gross</th>     <td> 1.802e-09</td> <td> 3.78e-10</td> <td>    4.760</td> <td> 0.000</td> <td> 1.06e-09</td> <td> 2.54e-09</td>\n",
       "</tr>\n",
       "<tr>\n",
       "  <th>budget2</th>   <td> 1.403e-17</td> <td> 5.71e-18</td> <td>    2.457</td> <td> 0.014</td> <td> 2.84e-18</td> <td> 2.52e-17</td>\n",
       "</tr>\n",
       "</table>\n",
       "<table class=\"simpletable\">\n",
       "<tr>\n",
       "  <th>Omnibus:</th>       <td>766.765</td> <th>  Durbin-Watson:     </th> <td>   1.984</td>\n",
       "</tr>\n",
       "<tr>\n",
       "  <th>Prob(Omnibus):</th> <td> 0.000</td>  <th>  Jarque-Bera (JB):  </th> <td>3011.985</td>\n",
       "</tr>\n",
       "<tr>\n",
       "  <th>Skew:</th>          <td>-0.778</td>  <th>  Prob(JB):          </th> <td>    0.00</td>\n",
       "</tr>\n",
       "<tr>\n",
       "  <th>Kurtosis:</th>      <td> 6.629</td>  <th>  Cond. No.          </th> <td>4.79e+16</td>\n",
       "</tr>\n",
       "</table><br/><br/>Warnings:<br/>[1] Standard Errors assume that the covariance matrix of the errors is correctly specified.<br/>[2] The condition number is large, 4.79e+16. This might indicate that there are<br/>strong multicollinearity or other numerical problems."
      ],
      "text/plain": [
       "<class 'statsmodels.iolib.summary.Summary'>\n",
       "\"\"\"\n",
       "                            OLS Regression Results                            \n",
       "==============================================================================\n",
       "Dep. Variable:                  score   R-squared:                      -0.122\n",
       "Model:                            OLS   Adj. R-squared:                 -0.123\n",
       "Method:                 Least Squares   F-statistic:                    -126.3\n",
       "Date:                Fri, 28 Feb 2020   Prob (F-statistic):               1.00\n",
       "Time:                        20:44:02   Log-Likelihood:                -6899.2\n",
       "No. Observations:                4638   AIC:                         1.381e+04\n",
       "Df Residuals:                    4633   BIC:                         1.384e+04\n",
       "Df Model:                           4                                         \n",
       "Covariance Type:            nonrobust                                         \n",
       "==============================================================================\n",
       "                 coef    std err          t      P>|t|      [0.025      0.975]\n",
       "------------------------------------------------------------------------------\n",
       "Intercept      0.0005   2.45e-06    223.311      0.000       0.001       0.001\n",
       "runtime        0.0592      0.000    223.311      0.000       0.059       0.060\n",
       "budget     -1.014e-08   1.06e-09     -9.599      0.000   -1.22e-08   -8.07e-09\n",
       "votes       1.612e-06   1.39e-07     11.584      0.000    1.34e-06    1.89e-06\n",
       "gross       1.802e-09   3.78e-10      4.760      0.000    1.06e-09    2.54e-09\n",
       "budget2     1.403e-17   5.71e-18      2.457      0.014    2.84e-18    2.52e-17\n",
       "==============================================================================\n",
       "Omnibus:                      766.765   Durbin-Watson:                   1.984\n",
       "Prob(Omnibus):                  0.000   Jarque-Bera (JB):             3011.985\n",
       "Skew:                          -0.778   Prob(JB):                         0.00\n",
       "Kurtosis:                       6.629   Cond. No.                     4.79e+16\n",
       "==============================================================================\n",
       "\n",
       "Warnings:\n",
       "[1] Standard Errors assume that the covariance matrix of the errors is correctly specified.\n",
       "[2] The condition number is large, 4.79e+16. This might indicate that there are\n",
       "strong multicollinearity or other numerical problems.\n",
       "\"\"\""
      ]
     },
     "execution_count": 72,
     "metadata": {},
     "output_type": "execute_result"
    }
   ],
   "source": [
    "#When we looked at the correlation between score and budget, the relationship was very weak. \n",
    "#I wanted to see that if the relationship between budget and score is nonlinear, then fitting a polynomial might improve the model.\n",
    "df['budget2'] = df.budget**2\n",
    "formula = 'score ~ runtime+budget+votes+gross+budget2'\n",
    "results = smf.ols(formula, data=df).fit()\n",
    "SummarizeResults(results)\n",
    "results.summary()"
   ]
  },
  {
   "cell_type": "code",
   "execution_count": 73,
   "metadata": {},
   "outputs": [
    {
     "name": "stdout",
     "output_type": "stream",
     "text": [
      "R squared is negative and is an indicator that the model doesn't follow the trend of the data.\n"
     ]
    }
   ],
   "source": [
    "print(\"R squared is negative and is an indicator that the model doesn't follow the trend of the data.\")\n"
   ]
  },
  {
   "cell_type": "code",
   "execution_count": 74,
   "metadata": {},
   "outputs": [
    {
     "name": "stdout",
     "output_type": "stream",
     "text": [
      "Creating a multiple regression model where I get the change in scores as a function of runtime and gross\n",
      "Intercept   3.95   (0)\n",
      "runtime   0.0215   (3.02e-160)\n",
      "gross   2.02e-09   (5.24e-22)\n",
      "R^2 0.1903\n",
      "Std(ys) 1.011\n",
      "Std(res) 0.9098\n"
     ]
    },
    {
     "data": {
      "text/html": [
       "<table class=\"simpletable\">\n",
       "<caption>OLS Regression Results</caption>\n",
       "<tr>\n",
       "  <th>Dep. Variable:</th>          <td>score</td>      <th>  R-squared:         </th> <td>   0.190</td> \n",
       "</tr>\n",
       "<tr>\n",
       "  <th>Model:</th>                   <td>OLS</td>       <th>  Adj. R-squared:    </th> <td>   0.190</td> \n",
       "</tr>\n",
       "<tr>\n",
       "  <th>Method:</th>             <td>Least Squares</td>  <th>  F-statistic:       </th> <td>   544.8</td> \n",
       "</tr>\n",
       "<tr>\n",
       "  <th>Date:</th>             <td>Fri, 28 Feb 2020</td> <th>  Prob (F-statistic):</th> <td>3.23e-213</td>\n",
       "</tr>\n",
       "<tr>\n",
       "  <th>Time:</th>                 <td>20:44:14</td>     <th>  Log-Likelihood:    </th> <td> -6142.0</td> \n",
       "</tr>\n",
       "<tr>\n",
       "  <th>No. Observations:</th>      <td>  4638</td>      <th>  AIC:               </th> <td>1.229e+04</td>\n",
       "</tr>\n",
       "<tr>\n",
       "  <th>Df Residuals:</th>          <td>  4635</td>      <th>  BIC:               </th> <td>1.231e+04</td>\n",
       "</tr>\n",
       "<tr>\n",
       "  <th>Df Model:</th>              <td>     2</td>      <th>                     </th>     <td> </td>    \n",
       "</tr>\n",
       "<tr>\n",
       "  <th>Covariance Type:</th>      <td>nonrobust</td>    <th>                     </th>     <td> </td>    \n",
       "</tr>\n",
       "</table>\n",
       "<table class=\"simpletable\">\n",
       "<tr>\n",
       "      <td></td>         <th>coef</th>     <th>std err</th>      <th>t</th>      <th>P>|t|</th>  <th>[0.025</th>    <th>0.975]</th>  \n",
       "</tr>\n",
       "<tr>\n",
       "  <th>Intercept</th> <td>    3.9485</td> <td>    0.082</td> <td>   48.346</td> <td> 0.000</td> <td>    3.788</td> <td>    4.109</td>\n",
       "</tr>\n",
       "<tr>\n",
       "  <th>runtime</th>   <td>    0.0215</td> <td>    0.001</td> <td>   28.069</td> <td> 0.000</td> <td>    0.020</td> <td>    0.023</td>\n",
       "</tr>\n",
       "<tr>\n",
       "  <th>gross</th>     <td>  2.02e-09</td> <td> 2.08e-10</td> <td>    9.693</td> <td> 0.000</td> <td> 1.61e-09</td> <td> 2.43e-09</td>\n",
       "</tr>\n",
       "</table>\n",
       "<table class=\"simpletable\">\n",
       "<tr>\n",
       "  <th>Omnibus:</th>       <td>400.312</td> <th>  Durbin-Watson:     </th> <td>   1.860</td> \n",
       "</tr>\n",
       "<tr>\n",
       "  <th>Prob(Omnibus):</th> <td> 0.000</td>  <th>  Jarque-Bera (JB):  </th> <td> 626.338</td> \n",
       "</tr>\n",
       "<tr>\n",
       "  <th>Skew:</th>          <td>-0.655</td>  <th>  Prob(JB):          </th> <td>9.83e-137</td>\n",
       "</tr>\n",
       "<tr>\n",
       "  <th>Kurtosis:</th>      <td> 4.235</td>  <th>  Cond. No.          </th> <td>4.93e+08</td> \n",
       "</tr>\n",
       "</table><br/><br/>Warnings:<br/>[1] Standard Errors assume that the covariance matrix of the errors is correctly specified.<br/>[2] The condition number is large, 4.93e+08. This might indicate that there are<br/>strong multicollinearity or other numerical problems."
      ],
      "text/plain": [
       "<class 'statsmodels.iolib.summary.Summary'>\n",
       "\"\"\"\n",
       "                            OLS Regression Results                            \n",
       "==============================================================================\n",
       "Dep. Variable:                  score   R-squared:                       0.190\n",
       "Model:                            OLS   Adj. R-squared:                  0.190\n",
       "Method:                 Least Squares   F-statistic:                     544.8\n",
       "Date:                Fri, 28 Feb 2020   Prob (F-statistic):          3.23e-213\n",
       "Time:                        20:44:14   Log-Likelihood:                -6142.0\n",
       "No. Observations:                4638   AIC:                         1.229e+04\n",
       "Df Residuals:                    4635   BIC:                         1.231e+04\n",
       "Df Model:                           2                                         \n",
       "Covariance Type:            nonrobust                                         \n",
       "==============================================================================\n",
       "                 coef    std err          t      P>|t|      [0.025      0.975]\n",
       "------------------------------------------------------------------------------\n",
       "Intercept      3.9485      0.082     48.346      0.000       3.788       4.109\n",
       "runtime        0.0215      0.001     28.069      0.000       0.020       0.023\n",
       "gross        2.02e-09   2.08e-10      9.693      0.000    1.61e-09    2.43e-09\n",
       "==============================================================================\n",
       "Omnibus:                      400.312   Durbin-Watson:                   1.860\n",
       "Prob(Omnibus):                  0.000   Jarque-Bera (JB):              626.338\n",
       "Skew:                          -0.655   Prob(JB):                    9.83e-137\n",
       "Kurtosis:                       4.235   Cond. No.                     4.93e+08\n",
       "==============================================================================\n",
       "\n",
       "Warnings:\n",
       "[1] Standard Errors assume that the covariance matrix of the errors is correctly specified.\n",
       "[2] The condition number is large, 4.93e+08. This might indicate that there are\n",
       "strong multicollinearity or other numerical problems.\n",
       "\"\"\""
      ]
     },
     "execution_count": 74,
     "metadata": {},
     "output_type": "execute_result"
    }
   ],
   "source": [
    "print('Creating a multiple regression model where I get the change in scores as a function of runtime and gross')\n",
    "formula = ('score ~ runtime+gross')\n",
    "results = smf.ols(formula, data=df).fit()\n",
    "#using thinkstats function instead of results.summary to get the main results and compare RMSEs.\n",
    "def SummarizeResults(results):\n",
    "    for name, param in results.params.items():\n",
    "        pvalue = results.pvalues[name]\n",
    "        print('%s   %0.3g   (%.3g)' % (name, param, pvalue))\n",
    "\n",
    "    try:\n",
    "        print('R^2 %.4g' % results.rsquared)\n",
    "        ys = results.model.endog\n",
    "        print('Std(ys) %.4g' % ys.std())\n",
    "        print('Std(res) %.4g' % results.resid.std())\n",
    "    except AttributeError:\n",
    "        print('R^2 %.4g' % results.prsquared)\n",
    "SummarizeResults(results)\n",
    "results.summary()"
   ]
  },
  {
   "cell_type": "code",
   "execution_count": 82,
   "metadata": {},
   "outputs": [
    {
     "name": "stdout",
     "output_type": "stream",
     "text": [
      "R-squared for this model is 0.1903, which indicates that variables runtime and gross account for 19 percent of the variation in the scores\n",
      "The parameters are statistically significant.\n",
      "The difference between the standard deviation of the outcome variable \"score\" and the standard deviation of the residuals is 0.1012, which indicates that knowing the runtime and gross provides improvement to the predictions\n"
     ]
    }
   ],
   "source": [
    "print('R-squared for this model is 0.1903, which indicates that variables runtime and gross account for 19 percent of the variation in the scores')\n",
    "print('The parameters are statistically significant.')\n",
    "print('The difference between the standard deviation of the outcome variable \"score\" and the standard deviation of the residuals is 0.1012, which indicates that knowing the runtime and gross provides improvement to the predictions')"
   ]
  },
  {
   "cell_type": "code",
   "execution_count": 76,
   "metadata": {
    "scrolled": true
   },
   "outputs": [
    {
     "name": "stdout",
     "output_type": "stream",
     "text": [
      "Creating a multiple regression model where I get the change in scores as a function of runtime, and budget\n",
      "Intercept   3.78   (0)\n",
      "budget   -1.6e-09   (6.84e-06)\n",
      "runtime   0.0245   (1.67e-193)\n",
      "R^2 0.1775\n",
      "Std(ys) 1.011\n",
      "Std(res) 0.9169\n"
     ]
    },
    {
     "data": {
      "text/html": [
       "<table class=\"simpletable\">\n",
       "<caption>OLS Regression Results</caption>\n",
       "<tr>\n",
       "  <th>Dep. Variable:</th>          <td>score</td>      <th>  R-squared:         </th> <td>   0.178</td> \n",
       "</tr>\n",
       "<tr>\n",
       "  <th>Model:</th>                   <td>OLS</td>       <th>  Adj. R-squared:    </th> <td>   0.177</td> \n",
       "</tr>\n",
       "<tr>\n",
       "  <th>Method:</th>             <td>Least Squares</td>  <th>  F-statistic:       </th> <td>   500.2</td> \n",
       "</tr>\n",
       "<tr>\n",
       "  <th>Date:</th>             <td>Fri, 28 Feb 2020</td> <th>  Prob (F-statistic):</th> <td>2.04e-197</td>\n",
       "</tr>\n",
       "<tr>\n",
       "  <th>Time:</th>                 <td>20:44:29</td>     <th>  Log-Likelihood:    </th> <td> -6178.4</td> \n",
       "</tr>\n",
       "<tr>\n",
       "  <th>No. Observations:</th>      <td>  4638</td>      <th>  AIC:               </th> <td>1.236e+04</td>\n",
       "</tr>\n",
       "<tr>\n",
       "  <th>Df Residuals:</th>          <td>  4635</td>      <th>  BIC:               </th> <td>1.238e+04</td>\n",
       "</tr>\n",
       "<tr>\n",
       "  <th>Df Model:</th>              <td>     2</td>      <th>                     </th>     <td> </td>    \n",
       "</tr>\n",
       "<tr>\n",
       "  <th>Covariance Type:</th>      <td>nonrobust</td>    <th>                     </th>     <td> </td>    \n",
       "</tr>\n",
       "</table>\n",
       "<table class=\"simpletable\">\n",
       "<tr>\n",
       "      <td></td>         <th>coef</th>     <th>std err</th>      <th>t</th>      <th>P>|t|</th>  <th>[0.025</th>    <th>0.975]</th>  \n",
       "</tr>\n",
       "<tr>\n",
       "  <th>Intercept</th> <td>    3.7775</td> <td>    0.083</td> <td>   45.696</td> <td> 0.000</td> <td>    3.615</td> <td>    3.940</td>\n",
       "</tr>\n",
       "<tr>\n",
       "  <th>budget</th>    <td>-1.598e-09</td> <td> 3.55e-10</td> <td>   -4.504</td> <td> 0.000</td> <td>-2.29e-09</td> <td>-9.02e-10</td>\n",
       "</tr>\n",
       "<tr>\n",
       "  <th>runtime</th>   <td>    0.0245</td> <td>    0.001</td> <td>   31.142</td> <td> 0.000</td> <td>    0.023</td> <td>    0.026</td>\n",
       "</tr>\n",
       "</table>\n",
       "<table class=\"simpletable\">\n",
       "<tr>\n",
       "  <th>Omnibus:</th>       <td>412.894</td> <th>  Durbin-Watson:     </th> <td>   1.767</td> \n",
       "</tr>\n",
       "<tr>\n",
       "  <th>Prob(Omnibus):</th> <td> 0.000</td>  <th>  Jarque-Bera (JB):  </th> <td> 680.595</td> \n",
       "</tr>\n",
       "<tr>\n",
       "  <th>Skew:</th>          <td>-0.652</td>  <th>  Prob(JB):          </th> <td>1.62e-148</td>\n",
       "</tr>\n",
       "<tr>\n",
       "  <th>Kurtosis:</th>      <td> 4.350</td>  <th>  Cond. No.          </th> <td>3.31e+08</td> \n",
       "</tr>\n",
       "</table><br/><br/>Warnings:<br/>[1] Standard Errors assume that the covariance matrix of the errors is correctly specified.<br/>[2] The condition number is large, 3.31e+08. This might indicate that there are<br/>strong multicollinearity or other numerical problems."
      ],
      "text/plain": [
       "<class 'statsmodels.iolib.summary.Summary'>\n",
       "\"\"\"\n",
       "                            OLS Regression Results                            \n",
       "==============================================================================\n",
       "Dep. Variable:                  score   R-squared:                       0.178\n",
       "Model:                            OLS   Adj. R-squared:                  0.177\n",
       "Method:                 Least Squares   F-statistic:                     500.2\n",
       "Date:                Fri, 28 Feb 2020   Prob (F-statistic):          2.04e-197\n",
       "Time:                        20:44:29   Log-Likelihood:                -6178.4\n",
       "No. Observations:                4638   AIC:                         1.236e+04\n",
       "Df Residuals:                    4635   BIC:                         1.238e+04\n",
       "Df Model:                           2                                         \n",
       "Covariance Type:            nonrobust                                         \n",
       "==============================================================================\n",
       "                 coef    std err          t      P>|t|      [0.025      0.975]\n",
       "------------------------------------------------------------------------------\n",
       "Intercept      3.7775      0.083     45.696      0.000       3.615       3.940\n",
       "budget     -1.598e-09   3.55e-10     -4.504      0.000   -2.29e-09   -9.02e-10\n",
       "runtime        0.0245      0.001     31.142      0.000       0.023       0.026\n",
       "==============================================================================\n",
       "Omnibus:                      412.894   Durbin-Watson:                   1.767\n",
       "Prob(Omnibus):                  0.000   Jarque-Bera (JB):              680.595\n",
       "Skew:                          -0.652   Prob(JB):                    1.62e-148\n",
       "Kurtosis:                       4.350   Cond. No.                     3.31e+08\n",
       "==============================================================================\n",
       "\n",
       "Warnings:\n",
       "[1] Standard Errors assume that the covariance matrix of the errors is correctly specified.\n",
       "[2] The condition number is large, 3.31e+08. This might indicate that there are\n",
       "strong multicollinearity or other numerical problems.\n",
       "\"\"\""
      ]
     },
     "execution_count": 76,
     "metadata": {},
     "output_type": "execute_result"
    }
   ],
   "source": [
    "print('Creating a multiple regression model where I get the change in scores as a function of runtime, and budget')\n",
    "formula = ('score ~ budget+runtime')\n",
    "results = smf.ols(formula, data=df).fit()\n",
    "#using thinkstats function instead of results.summary to get the main results and compare RMSEs.\n",
    "def SummarizeResults(results):\n",
    "    for name, param in results.params.items():\n",
    "        pvalue = results.pvalues[name]\n",
    "        print('%s   %0.3g   (%.3g)' % (name, param, pvalue))\n",
    "\n",
    "    try:\n",
    "        print('R^2 %.4g' % results.rsquared)\n",
    "        ys = results.model.endog\n",
    "        print('Std(ys) %.4g' % ys.std())\n",
    "        print('Std(res) %.4g' % results.resid.std())\n",
    "    except AttributeError:\n",
    "        print('R^2 %.4g' % results.prsquared)\n",
    "SummarizeResults(results)\n",
    "results.summary()"
   ]
  },
  {
   "cell_type": "code",
   "execution_count": 79,
   "metadata": {},
   "outputs": [
    {
     "name": "stdout",
     "output_type": "stream",
     "text": [
      "The warning about potential multicollinearity. One of the coefficients changed the sign - unstable behavior.\n",
      "R-squared for this model is 0.1775, which indicates that variables runtime and budget account for 17.8 percent of the variation in the scores\n",
      "The parameters are statistically significant.\n",
      "The difference between the standard deviation of the outcome variable \"score\" and the standard deviation of the residuals is 0.0941, which indicates that knowing the runtime and budget provides a little bit of  improvement to the predictions\n"
     ]
    }
   ],
   "source": [
    "print(\"The warning about potential multicollinearity. One of the coefficients changed the sign - unstable behavior.\")\n",
    "print('R-squared for this model is 0.1775, which indicates that variables runtime and budget account for 17.8 percent of the variation in the scores')\n",
    "print('The parameters are statistically significant.')\n",
    "print('The difference between the standard deviation of the outcome variable \"score\" and the standard deviation of the residuals is 0.0941, which indicates that knowing the runtime and budget provides a little bit of  improvement to the predictions')"
   ]
  },
  {
   "cell_type": "code",
   "execution_count": 80,
   "metadata": {},
   "outputs": [],
   "source": [
    "#Models analysis:\n",
    "#All of these models are statistically significant. By squaring the budget variable in model 8 ,\n",
    "#I was trying to see if the relationship between budget and score was polynomial. \n",
    "#R-squared for the model resulted in a negative number which is a clear indicator that this model does not fit the data. \n",
    "#My conclusion is the same: the relationship between these two variables is linear, positive and very weak. \n",
    "#The warning of possible multicollinearity shows for all of the models except for the simple regression model of score~runtime. \n",
    "#Since there can’t be multicollinearity in simple regression models, the warning should be disregarded for this type of model.\n",
    "#Variables gross and budget act unstable by changing their sign in some of the models. \n",
    "#When the sign is changed (a dramatic change in a coefficient) the models could be affected by multicollinearity (https://blog.minitab.com/blog/understanding-statistics/handling-multicollinearity-in-regression-analysis).\n",
    "#Multicollinearity can make interpreting results problematic. This analysis was problematic because of the changes in the sign of coefficients of the variables that have high VIF, and have correlation close to high.\n",
    "#Decision to interpret results for the models with the variables staying stable overall was made.\n",
    "#By looking only at the models that do not experience any sign of significant change in their variables\n",
    "#and taking into account information about VIF and correlation coefficients, the model that has the highest R-squared and the highest difference\n",
    "#between Std(ys) and Std(res) is the model score~runtime+votes. R-squared of 0.292 indicates that variables runtime and votes account for 29.2 percent of the variation in the scores.\n",
    "#The difference between the standard deviation of the outcome variable \"score\" and the standard deviation of the residuals is 0.1603 which  indicates that knowing the runtime and votes provides improved prediction since the value is greater than that of improvement from just knowing runtime, or votes, or not knowing any  information about these variables at all. \n",
    "#The parameters of the model are statistically significant.\n"
   ]
  },
  {
   "cell_type": "code",
   "execution_count": 81,
   "metadata": {},
   "outputs": [],
   "source": [
    "#Limitations\n",
    "#The project has some limitations. Even though it provides results for effects of variables budget, gross, runtime and votes,\n",
    "#it doesn’t explain other factors that could be influencing the outcome “scores”. \n",
    "#Considering performing the analyzes of other variables from the data set can allow for discovery of \n",
    "#additional factors influencing the outcome variable “score”.\n",
    "#Missing values significantly reduced the amount of observations available thus reducing the possibility of accounting\n",
    "#for all of the information for the variables. Looking for the sources containing the information that was missing \n",
    "#could potentially solve this issue. \n",
    "#Additional analysis of all of the assumptions that multiple linear regression model should meet for valid results\n",
    "#can be considered to double check the validity of the model and its results. \n",
    "#The movies analyzed are made within time frame of 1986-2016. New information for the modt recent years could be added \n",
    "#and analyzed for more up-to-date results.\n"
   ]
  },
  {
   "cell_type": "code",
   "execution_count": null,
   "metadata": {},
   "outputs": [],
   "source": [
    "#Conclusion\n",
    "#The analysis performed showed that there are 4 positive relationships between each of the independent variables\n",
    "#and the outcome variable score that are statistically significant.  The relationship of votes and score, runtime and score \n",
    "#are close to moderate positive linear. The relationships of gross and score, budget and score are very weak positive linear. \n",
    "#Additional analysis of the budget and score relationship was needed due to opposite signs in Pearson’s and Spearman’s\n",
    "#correlations. The behavior of the variable “budget” was paid extra attention to in the models. \n",
    "#Possible issue of multicollinearity for variables budget and gross resulted in their omission in the final model \n",
    "#thus making runtime and votes being accountable for better prediction of scores given by the user.\n",
    "#It is important to remember that the relationships discovered do not imply causation. \n",
    "#Hypothesis of scores of horror movies vs other genres of movies being rated lower was tested with the help of CDFs, \n",
    "#PMFs, chi-square test. The difference between the scores of these two variables was concluded to be statistically significant,\n",
    "#with PMFs and CDFs illustrating the lower scores for horror movies genres being more prevalent than those of the other genres.\n",
    "\n"
   ]
  }
 ],
 "metadata": {
  "kernelspec": {
   "display_name": "Python 3",
   "language": "python",
   "name": "python3"
  },
  "language_info": {
   "codemirror_mode": {
    "name": "ipython",
    "version": 3
   },
   "file_extension": ".py",
   "mimetype": "text/x-python",
   "name": "python",
   "nbconvert_exporter": "python",
   "pygments_lexer": "ipython3",
   "version": "3.7.4"
  }
 },
 "nbformat": 4,
 "nbformat_minor": 2
}
